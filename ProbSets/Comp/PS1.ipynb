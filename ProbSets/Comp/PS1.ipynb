{
 "cells": [
  {
   "cell_type": "markdown",
   "metadata": {},
   "source": [
    "## Problem Set 1\n",
    "### Fiona Fan\n",
    "\n",
    "#### Numpy\n",
    "*1.*"
   ]
  },
  {
   "cell_type": "code",
   "execution_count": 1,
   "metadata": {},
   "outputs": [],
   "source": [
    "import numpy as np\n",
    "import pandas as pd"
   ]
  },
  {
   "cell_type": "code",
   "execution_count": 6,
   "metadata": {},
   "outputs": [
    {
     "data": {
      "text/plain": [
       "array([[ 37,  14, -32, -10],\n",
       "       [-54,  -7,  58,  65]])"
      ]
     },
     "execution_count": 6,
     "metadata": {},
     "output_type": "execute_result"
    }
   ],
   "source": [
    "A=np.array([[3,-1,4],[1,5,-9]])\n",
    "B=np.array([[2,6,-5,3],[5,-8,9,7],[9,-3,-2,-3]])\n",
    "result = A@B\n",
    "result"
   ]
  },
  {
   "cell_type": "markdown",
   "metadata": {},
   "source": [
    "*2.*"
   ]
  },
  {
   "cell_type": "code",
   "execution_count": 11,
   "metadata": {},
   "outputs": [
    {
     "data": {
      "text/plain": [
       "array([[0, 0, 0],\n",
       "       [0, 0, 0],\n",
       "       [0, 0, 0]])"
      ]
     },
     "execution_count": 11,
     "metadata": {},
     "output_type": "execute_result"
    }
   ],
   "source": [
    "A=np.array([[3,1,4],[1,5,9],[-5,3,1]])\n",
    "result = -A@A@A+9*A@A-15*A\n",
    "result"
   ]
  },
  {
   "cell_type": "markdown",
   "metadata": {},
   "source": [
    "*3.*"
   ]
  },
  {
   "cell_type": "code",
   "execution_count": 31,
   "metadata": {},
   "outputs": [
    {
     "data": {
      "text/plain": [
       "array([[ -7.,  -8.,  -3.,   8.,  25.,  48.,  77.],\n",
       "       [ -6., -12., -12.,  -6.,   6.,  24.,  48.],\n",
       "       [ -5., -10., -15., -14.,  -7.,   6.,  25.],\n",
       "       [ -4.,  -8., -12., -16., -14.,  -6.,   8.],\n",
       "       [ -3.,  -6.,  -9., -12., -15., -12.,  -3.],\n",
       "       [ -2.,  -4.,  -6.,  -8., -10., -12.,  -8.],\n",
       "       [ -1.,  -2.,  -3.,  -4.,  -5.,  -6.,  -7.]])"
      ]
     },
     "execution_count": 31,
     "metadata": {},
     "output_type": "execute_result"
    }
   ],
   "source": [
    "def prob3():\n",
    "    result1 = np.triu(np.ones((7,7)))\n",
    "    result2 = np.tril(np.full((7,7),-1))\n",
    "    iu1 = np.triu_indices(7,1)\n",
    "    result2[iu1]=5\n",
    "    return result1@result2@result1.astype(np.int64)\n",
    "prob3()"
   ]
  },
  {
   "cell_type": "markdown",
   "metadata": {},
   "source": [
    "*4.*"
   ]
  },
  {
   "cell_type": "code",
   "execution_count": 28,
   "metadata": {},
   "outputs": [
    {
     "data": {
      "text/plain": [
       "array([[0, 5, 5, 5, 5, 5, 5],\n",
       "       [0, 0, 5, 5, 5, 5, 5],\n",
       "       [0, 0, 0, 5, 5, 5, 5],\n",
       "       [0, 0, 0, 0, 5, 5, 5],\n",
       "       [0, 0, 0, 0, 0, 5, 5],\n",
       "       [0, 0, 0, 0, 0, 0, 5],\n",
       "       [0, 0, 0, 0, 0, 0, 0]])"
      ]
     },
     "execution_count": 28,
     "metadata": {},
     "output_type": "execute_result"
    }
   ],
   "source": [
    "def neg0 (arr):\n",
    "    arr1=arr.copy()\n",
    "    arr1[arr<0]=0\n",
    "    return arr1\n",
    "neg0(result2)"
   ]
  },
  {
   "cell_type": "markdown",
   "metadata": {},
   "source": [
    "*5.*"
   ]
  },
  {
   "cell_type": "code",
   "execution_count": 62,
   "metadata": {},
   "outputs": [
    {
     "name": "stdout",
     "output_type": "stream",
     "text": [
      "(3, 2) (2, 3) (3, 3)\n"
     ]
    },
    {
     "data": {
      "text/plain": [
       "array([[0., 0., 0., 0., 3., 1., 0., 0.],\n",
       "       [0., 0., 0., 1., 4., 0., 1., 0.],\n",
       "       [0., 0., 0., 2., 5., 0., 0., 1.],\n",
       "       [0., 1., 2., 0., 0., 0., 0., 0.],\n",
       "       [3., 4., 5., 0., 0., 0., 0., 0.],\n",
       "       [3., 0., 0., 0., 0., 3., 0., 0.],\n",
       "       [3., 3., 0., 0., 0., 0., 3., 0.],\n",
       "       [3., 3., 3., 0., 0., 0., 0., 3.]])"
      ]
     },
     "execution_count": 62,
     "metadata": {},
     "output_type": "execute_result"
    }
   ],
   "source": [
    "def prob5():\n",
    "    A=np.arange(6).reshape((2,3))\n",
    "    B=np.tril(np.ones((3,3)))*3\n",
    "    C=np.eye(3)*3\n",
    "    Z1 = np.zeros((3,3))\n",
    "    Z2 = np.zeros((5,2))\n",
    "    Z4 = np.zeros((2,3))\n",
    "    I = np.eye(3)\n",
    "    print(A.T.shape,A.shape, B.shape)\n",
    "    col1=np.vstack((Z1,A,B))\n",
    "    col2=np.vstack((A.T,Z2))\n",
    "    col3=np.vstack((I,Z4,C))\n",
    "    return np.hstack((col1,col2,col3))\n",
    "# np.zeros((3,3))\n",
    "prob5()\n"
   ]
  },
  {
   "cell_type": "markdown",
   "metadata": {},
   "source": [
    "*6.*"
   ]
  },
  {
   "cell_type": "code",
   "execution_count": null,
   "metadata": {},
   "outputs": [],
   "source": [
    "import math"
   ]
  },
  {
   "cell_type": "code",
   "execution_count": 89,
   "metadata": {},
   "outputs": [
    {
     "data": {
      "text/plain": [
       "array([[ 0.5 ,  0.25,  0.25],\n",
       "       [ 2.  , -1.  ,  0.  ]])"
      ]
     },
     "execution_count": 89,
     "metadata": {},
     "output_type": "execute_result"
    }
   ],
   "source": [
    "def row_stochastic(arr):\n",
    "    arr1=arr.copy()\n",
    "    sum1=arr1.sum(axis=1)\n",
    "    return arr1/sum1[:,np.newaxis]\n",
    "#     return arr1[(arr1.sum(axis=0)==1).reshape(-1,1),:]\n",
    "row_stochastic(np.array([[2,1,1],[2,-1,0]]))"
   ]
  },
  {
   "cell_type": "code",
   "execution_count": 125,
   "metadata": {},
   "outputs": [
    {
     "data": {
      "text/plain": [
       "70600674"
      ]
     },
     "execution_count": 125,
     "metadata": {},
     "output_type": "execute_result"
    }
   ],
   "source": [
    "grid = np.load(\"grid.npy\")\n",
    "def prob7(g):\n",
    "#     mask = np.eye(4)==1\n",
    "#     temp = -1111\n",
    "#     for i in np.arange(g.shape[0]-3):\n",
    "#         for j in np.arange(g.shape[1]-3):\n",
    "#             #rdiag\n",
    "#             mat1 = np.diag(g[i:i+4,j:j+4])\n",
    "#             #ldiag\n",
    "#             mask=np.array([[False,False,False,True],[False,False,True,False],[False,True,False,False],[True,False,False,False]])\n",
    "#             mat4 = g[i:i+4,j:j+4][mask]\n",
    "#             #row\n",
    "#             mat2 = g[i:i+4,j:j+4][0,:]\n",
    "#             #col\n",
    "#             mat3 = g[i:i+4,j:j+4][:,0]\n",
    "# #             print (mat2)\n",
    "#             prod1 = np.prod(mat1)\n",
    "# #             print(prod1)\n",
    "#             prod2 = np.prod(mat2)\n",
    "#             prod3 = np.prod(mat3)\n",
    "#             result = max(prod1,prod2,prod3,np.prod(mat4))\n",
    "#             if result>temp:\n",
    "#                 temp=result\n",
    "    \n",
    "    row=np.max(grid[:,:-3] * grid[:,1:-2] * grid[:,2:-1] * grid[:,3:])\n",
    "    col=np.max(grid[:-3,:] * grid[1:-2,:] * grid[2:-1,:] * grid[3:,:])\n",
    "    right_diag = np.max(grid[:-3,:-3]*grid[1:-2,1:-2]*grid[2:-1,2:-1]*grid[3:,3:])\n",
    "    left_diag = np.max(grid[3:,:-3]*grid[2:-1,1:-2]*grid[1:-2,2:-1]*grid[:-3,3:])\n",
    "    result= max(row,col,right_diag,left_diag)\n",
    "    #check corner cases\n",
    "    temp=result\n",
    "    # checking corner cases\n",
    "    for k in [-1,-2,-3]:\n",
    "        mat1 = g[k,g.shape[0]-4:]\n",
    "        mat2 = g[g.shape[0]-4:,k]\n",
    "#         print(np.prod(mat1))\n",
    "        if max(np.prod(mat1),np.prod(mat2))>temp:\n",
    "            temp=result\n",
    "    return temp\n",
    "prob7(grid)\n",
    "# np.product(np.diag(np.eye(3)*3))"
   ]
  },
  {
   "cell_type": "markdown",
   "metadata": {},
   "source": [
    "### Standard Library"
   ]
  },
  {
   "cell_type": "code",
   "execution_count": null,
   "metadata": {},
   "outputs": [],
   "source": []
  },
  {
   "cell_type": "code",
   "execution_count": null,
   "metadata": {},
   "outputs": [],
   "source": []
  },
  {
   "cell_type": "code",
   "execution_count": null,
   "metadata": {},
   "outputs": [],
   "source": []
  },
  {
   "cell_type": "markdown",
   "metadata": {},
   "source": [
    "#### Unit testing\n",
    "\n",
    "*1.* The problem about the original function is that in case of 9, range(2,3) does not include the correct answer 3. Please see `sf.py` for the correct version"
   ]
  },
  {
   "cell_type": "code",
   "execution_count": 2,
   "metadata": {},
   "outputs": [
    {
     "ename": "NameError",
     "evalue": "name 'py' is not defined",
     "output_type": "error",
     "traceback": [
      "\u001b[1;31m---------------------------------------------------------------------------\u001b[0m",
      "\u001b[1;31mNameError\u001b[0m                                 Traceback (most recent call last)",
      "\u001b[1;32m<ipython-input-2-7319e14910cd>\u001b[0m in \u001b[0;36m<module>\u001b[1;34m()\u001b[0m\n\u001b[0;32m      1\u001b[0m \u001b[1;32mimport\u001b[0m \u001b[0mpytest\u001b[0m\u001b[1;33m\u001b[0m\u001b[0m\n\u001b[1;32m----> 2\u001b[1;33m \u001b[0mpy\u001b[0m\u001b[1;33m.\u001b[0m\u001b[0mtest\u001b[0m \u001b[1;33m-\u001b[0m\u001b[1;33m-\u001b[0m\u001b[0mcov\u001b[0m\u001b[1;33m\u001b[0m\u001b[0m\n\u001b[0m",
      "\u001b[1;31mNameError\u001b[0m: name 'py' is not defined"
     ]
    }
   ],
   "source": []
  },
  {
   "cell_type": "code",
   "execution_count": null,
   "metadata": {},
   "outputs": [],
   "source": []
  },
  {
   "cell_type": "code",
   "execution_count": null,
   "metadata": {},
   "outputs": [],
   "source": []
  },
  {
   "cell_type": "code",
   "execution_count": null,
   "metadata": {},
   "outputs": [],
   "source": []
  },
  {
   "cell_type": "code",
   "execution_count": null,
   "metadata": {},
   "outputs": [],
   "source": []
  },
  {
   "cell_type": "code",
   "execution_count": null,
   "metadata": {},
   "outputs": [],
   "source": []
  },
  {
   "cell_type": "code",
   "execution_count": null,
   "metadata": {},
   "outputs": [],
   "source": []
  },
  {
   "cell_type": "code",
   "execution_count": null,
   "metadata": {},
   "outputs": [],
   "source": []
  },
  {
   "cell_type": "code",
   "execution_count": null,
   "metadata": {},
   "outputs": [],
   "source": []
  },
  {
   "cell_type": "code",
   "execution_count": null,
   "metadata": {},
   "outputs": [],
   "source": []
  },
  {
   "cell_type": "code",
   "execution_count": null,
   "metadata": {},
   "outputs": [],
   "source": []
  },
  {
   "cell_type": "code",
   "execution_count": null,
   "metadata": {},
   "outputs": [],
   "source": []
  },
  {
   "cell_type": "code",
   "execution_count": null,
   "metadata": {},
   "outputs": [],
   "source": []
  },
  {
   "cell_type": "code",
   "execution_count": null,
   "metadata": {},
   "outputs": [],
   "source": []
  }
 ],
 "metadata": {
  "kernelspec": {
   "display_name": "Python 3",
   "language": "python",
   "name": "python3"
  },
  "language_info": {
   "codemirror_mode": {
    "name": "ipython",
    "version": 3
   },
   "file_extension": ".py",
   "mimetype": "text/x-python",
   "name": "python",
   "nbconvert_exporter": "python",
   "pygments_lexer": "ipython3",
   "version": "3.6.4"
  }
 },
 "nbformat": 4,
 "nbformat_minor": 2
}
