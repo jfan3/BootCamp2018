{
 "cells": [
  {
   "cell_type": "markdown",
   "metadata": {},
   "source": [
    "## Problem Set 1\n",
    "### Fiona Fan\n",
    "\n",
    "#### Numpy\n",
    "*1.*"
   ]
  },
  {
   "cell_type": "code",
   "execution_count": 1,
   "metadata": {},
   "outputs": [],
   "source": [
    "import numpy as np\n",
    "import pandas as pd"
   ]
  },
  {
   "cell_type": "code",
   "execution_count": 6,
   "metadata": {},
   "outputs": [
    {
     "data": {
      "text/plain": [
       "array([[ 37,  14, -32, -10],\n",
       "       [-54,  -7,  58,  65]])"
      ]
     },
     "execution_count": 6,
     "metadata": {},
     "output_type": "execute_result"
    }
   ],
   "source": [
    "A=np.array([[3,-1,4],[1,5,-9]])\n",
    "B=np.array([[2,6,-5,3],[5,-8,9,7],[9,-3,-2,-3]])\n",
    "result = A@B\n",
    "result"
   ]
  },
  {
   "cell_type": "markdown",
   "metadata": {},
   "source": [
    "*2.*"
   ]
  },
  {
   "cell_type": "code",
   "execution_count": 11,
   "metadata": {},
   "outputs": [
    {
     "data": {
      "text/plain": [
       "array([[0, 0, 0],\n",
       "       [0, 0, 0],\n",
       "       [0, 0, 0]])"
      ]
     },
     "execution_count": 11,
     "metadata": {},
     "output_type": "execute_result"
    }
   ],
   "source": [
    "A=np.array([[3,1,4],[1,5,9],[-5,3,1]])\n",
    "result = -A@A@A+9*A@A-15*A\n",
    "result"
   ]
  },
  {
   "cell_type": "markdown",
   "metadata": {},
   "source": [
    "*3.*"
   ]
  },
  {
   "cell_type": "code",
   "execution_count": 31,
   "metadata": {},
   "outputs": [
    {
     "data": {
      "text/plain": [
       "array([[ -7.,  -8.,  -3.,   8.,  25.,  48.,  77.],\n",
       "       [ -6., -12., -12.,  -6.,   6.,  24.,  48.],\n",
       "       [ -5., -10., -15., -14.,  -7.,   6.,  25.],\n",
       "       [ -4.,  -8., -12., -16., -14.,  -6.,   8.],\n",
       "       [ -3.,  -6.,  -9., -12., -15., -12.,  -3.],\n",
       "       [ -2.,  -4.,  -6.,  -8., -10., -12.,  -8.],\n",
       "       [ -1.,  -2.,  -3.,  -4.,  -5.,  -6.,  -7.]])"
      ]
     },
     "execution_count": 31,
     "metadata": {},
     "output_type": "execute_result"
    }
   ],
   "source": [
    "def prob3():\n",
    "    result1 = np.triu(np.ones((7,7)))\n",
    "    result2 = np.tril(np.full((7,7),-1))\n",
    "    iu1 = np.triu_indices(7,1)\n",
    "    result2[iu1]=5\n",
    "    return result1@result2@result1.astype(np.int64)\n",
    "prob3()"
   ]
  },
  {
   "cell_type": "markdown",
   "metadata": {},
   "source": [
    "*4.*"
   ]
  },
  {
   "cell_type": "code",
   "execution_count": 28,
   "metadata": {},
   "outputs": [
    {
     "data": {
      "text/plain": [
       "array([[0, 5, 5, 5, 5, 5, 5],\n",
       "       [0, 0, 5, 5, 5, 5, 5],\n",
       "       [0, 0, 0, 5, 5, 5, 5],\n",
       "       [0, 0, 0, 0, 5, 5, 5],\n",
       "       [0, 0, 0, 0, 0, 5, 5],\n",
       "       [0, 0, 0, 0, 0, 0, 5],\n",
       "       [0, 0, 0, 0, 0, 0, 0]])"
      ]
     },
     "execution_count": 28,
     "metadata": {},
     "output_type": "execute_result"
    }
   ],
   "source": [
    "def neg0 (arr):\n",
    "    arr1=arr.copy()\n",
    "    arr1[arr<0]=0\n",
    "    return arr1\n",
    "neg0(result2)"
   ]
  },
  {
   "cell_type": "markdown",
   "metadata": {},
   "source": [
    "*5.*"
   ]
  },
  {
   "cell_type": "code",
   "execution_count": 62,
   "metadata": {},
   "outputs": [
    {
     "name": "stdout",
     "output_type": "stream",
     "text": [
      "(3, 2) (2, 3) (3, 3)\n"
     ]
    },
    {
     "data": {
      "text/plain": [
       "array([[0., 0., 0., 0., 3., 1., 0., 0.],\n",
       "       [0., 0., 0., 1., 4., 0., 1., 0.],\n",
       "       [0., 0., 0., 2., 5., 0., 0., 1.],\n",
       "       [0., 1., 2., 0., 0., 0., 0., 0.],\n",
       "       [3., 4., 5., 0., 0., 0., 0., 0.],\n",
       "       [3., 0., 0., 0., 0., 3., 0., 0.],\n",
       "       [3., 3., 0., 0., 0., 0., 3., 0.],\n",
       "       [3., 3., 3., 0., 0., 0., 0., 3.]])"
      ]
     },
     "execution_count": 62,
     "metadata": {},
     "output_type": "execute_result"
    }
   ],
   "source": [
    "def prob5():\n",
    "    A=np.arange(6).reshape((2,3))\n",
    "    B=np.tril(np.ones((3,3)))*3\n",
    "    C=np.eye(3)*3\n",
    "    Z1 = np.zeros((3,3))\n",
    "    Z2 = np.zeros((5,2))\n",
    "    Z4 = np.zeros((2,3))\n",
    "    I = np.eye(3)\n",
    "    print(A.T.shape,A.shape, B.shape)\n",
    "    col1=np.vstack((Z1,A,B))\n",
    "    col2=np.vstack((A.T,Z2))\n",
    "    col3=np.vstack((I,Z4,C))\n",
    "    return np.hstack((col1,col2,col3))\n",
    "# np.zeros((3,3))\n",
    "prob5()\n"
   ]
  },
  {
   "cell_type": "markdown",
   "metadata": {},
   "source": [
    "*6.*"
   ]
  },
  {
   "cell_type": "code",
   "execution_count": null,
   "metadata": {},
   "outputs": [],
   "source": [
    "import math"
   ]
  },
  {
   "cell_type": "code",
   "execution_count": 89,
   "metadata": {},
   "outputs": [
    {
     "data": {
      "text/plain": [
       "array([[ 0.5 ,  0.25,  0.25],\n",
       "       [ 2.  , -1.  ,  0.  ]])"
      ]
     },
     "execution_count": 89,
     "metadata": {},
     "output_type": "execute_result"
    }
   ],
   "source": [
    "def row_stochastic(arr):\n",
    "    arr1=arr.copy()\n",
    "    sum1=arr1.sum(axis=1)\n",
    "    return arr1/sum1[:,np.newaxis]\n",
    "#     return arr1[(arr1.sum(axis=0)==1).reshape(-1,1),:]\n",
    "row_stochastic(np.array([[2,1,1],[2,-1,0]]))"
   ]
  },
  {
   "cell_type": "code",
   "execution_count": 125,
   "metadata": {},
   "outputs": [
    {
     "data": {
      "text/plain": [
       "70600674"
      ]
     },
     "execution_count": 125,
     "metadata": {},
     "output_type": "execute_result"
    }
   ],
   "source": [
    "grid = np.load(\"grid.npy\")\n",
    "def prob7(g):\n",
    "#     mask = np.eye(4)==1\n",
    "#     temp = -1111\n",
    "#     for i in np.arange(g.shape[0]-3):\n",
    "#         for j in np.arange(g.shape[1]-3):\n",
    "#             #rdiag\n",
    "#             mat1 = np.diag(g[i:i+4,j:j+4])\n",
    "#             #ldiag\n",
    "#             mask=np.array([[False,False,False,True],[False,False,True,False],[False,True,False,False],[True,False,False,False]])\n",
    "#             mat4 = g[i:i+4,j:j+4][mask]\n",
    "#             #row\n",
    "#             mat2 = g[i:i+4,j:j+4][0,:]\n",
    "#             #col\n",
    "#             mat3 = g[i:i+4,j:j+4][:,0]\n",
    "# #             print (mat2)\n",
    "#             prod1 = np.prod(mat1)\n",
    "# #             print(prod1)\n",
    "#             prod2 = np.prod(mat2)\n",
    "#             prod3 = np.prod(mat3)\n",
    "#             result = max(prod1,prod2,prod3,np.prod(mat4))\n",
    "#             if result>temp:\n",
    "#                 temp=result\n",
    "    \n",
    "    row=np.max(grid[:,:-3] * grid[:,1:-2] * grid[:,2:-1] * grid[:,3:])\n",
    "    col=np.max(grid[:-3,:] * grid[1:-2,:] * grid[2:-1,:] * grid[3:,:])\n",
    "    right_diag = np.max(grid[:-3,:-3]*grid[1:-2,1:-2]*grid[2:-1,2:-1]*grid[3:,3:])\n",
    "    left_diag = np.max(grid[3:,:-3]*grid[2:-1,1:-2]*grid[1:-2,2:-1]*grid[:-3,3:])\n",
    "    result= max(row,col,right_diag,left_diag)\n",
    "    #check corner cases\n",
    "    temp=result\n",
    "    # checking corner cases\n",
    "    for k in [-1,-2,-3]:\n",
    "        mat1 = g[k,g.shape[0]-4:]\n",
    "        mat2 = g[g.shape[0]-4:,k]\n",
    "#         print(np.prod(mat1))\n",
    "        if max(np.prod(mat1),np.prod(mat2))>temp:\n",
    "            temp=result\n",
    "    return temp\n",
    "prob7(grid)\n",
    "# np.product(np.diag(np.eye(3)*3))"
   ]
  },
  {
   "cell_type": "markdown",
   "metadata": {},
   "source": [
    "### Standard Library\n",
    "1."
   ]
  },
  {
   "cell_type": "code",
   "execution_count": 1,
   "metadata": {},
   "outputs": [],
   "source": [
    "def p1(L):\n",
    "    return (min(L), max(L), sum(L)/len(L))"
   ]
  },
  {
   "cell_type": "code",
   "execution_count": 3,
   "metadata": {
    "scrolled": true
   },
   "outputs": [
    {
     "data": {
      "text/plain": [
       "(1, 4, 2.5)"
      ]
     },
     "execution_count": 3,
     "metadata": {},
     "output_type": "execute_result"
    }
   ],
   "source": [
    "p1([1,2,3,4])"
   ]
  },
  {
   "cell_type": "markdown",
   "metadata": {},
   "source": [
    "2."
   ]
  },
  {
   "cell_type": "code",
   "execution_count": 11,
   "metadata": {},
   "outputs": [
    {
     "name": "stdout",
     "output_type": "stream",
     "text": [
      "<class 'int'>:False\n",
      "<class 'str'>:False\n",
      "<class 'list'>:True\n",
      "<class 'tuple'>:False\n",
      "<class 'set'>:False\n"
     ]
    }
   ],
   "source": [
    "objs = [1,\"a\",[1,2],(1,2),set([1,2]) ]\n",
    "objs_2 = [2, \"b\", [2,3], (2,3), set([2,3])]\n",
    "\n",
    "for i, ob in enumerate (objs):\n",
    "    if ob == [1,2]:\n",
    "        new = ob\n",
    "        ob[1]=3\n",
    "        print(f'{type(ob)}:{new==ob}' )\n",
    "    else:\n",
    "        new = ob\n",
    "        new = objs_2[i]\n",
    "        print(f'{type(ob)}:{new==ob}' )\n",
    "\n",
    "    "
   ]
  },
  {
   "cell_type": "markdown",
   "metadata": {},
   "source": [
    "3. "
   ]
  },
  {
   "cell_type": "code",
   "execution_count": 19,
   "metadata": {},
   "outputs": [
    {
     "data": {
      "text/plain": [
       "5.0"
      ]
     },
     "execution_count": 19,
     "metadata": {},
     "output_type": "execute_result"
    }
   ],
   "source": [
    "import calculator as cal\n",
    "\n",
    "def hyp(a,b):\n",
    "    return cal.math.sqrt(cal.add(cal.prod(a,a),cal.prod(b,b)))\n",
    "hyp(3,4)"
   ]
  },
  {
   "cell_type": "markdown",
   "metadata": {},
   "source": [
    "4."
   ]
  },
  {
   "cell_type": "code",
   "execution_count": 33,
   "metadata": {},
   "outputs": [
    {
     "data": {
      "text/plain": [
       "[(), (0,), (1,), (2,), (0, 1), (0, 2), (1, 2), (0, 1, 2)]"
      ]
     },
     "execution_count": 33,
     "metadata": {},
     "output_type": "execute_result"
    }
   ],
   "source": [
    "from itertools import combinations\n",
    "test = list(range(3))\n",
    "# list(combinations(test,len(test)))\n",
    "def power_set(L):\n",
    "    result=[]\n",
    "    for i in range(len(L)+1):\n",
    "        result.extend(combinations(L,i))\n",
    "    return result\n",
    "power_set(test)"
   ]
  },
  {
   "cell_type": "markdown",
   "metadata": {},
   "source": [
    "5.Please see `SDP4.py`\n",
    "\n",
    "### OOP\n",
    "1."
   ]
  },
  {
   "cell_type": "code",
   "execution_count": 39,
   "metadata": {},
   "outputs": [],
   "source": [
    "class Backpack:\n",
    "    \"\"\"A Backpack object class. Has a name, color, maximum size, and a list of contents.\n",
    "    Attributes:\n",
    "        name (str): the name of the backpack's owner.\n",
    "        color (str): the color of the backpack.\n",
    "        max_size (int): the maximum amount of items in the backpack.\n",
    "        contents (list): the contents of the backpack.\n",
    "    Functions:\n",
    "        put(): Add an item to the backpack.\n",
    "        take(): Remove and item from the backpack.\n",
    "        dump(): Remove all the contents from the backpack.\n",
    "    \"\"\"\n",
    "    \n",
    "    def __init__(self, name, color, max_size=5):           # This function is the constructor.\n",
    "        \"\"\"Set the name, color, and max_size and initialize an empty list of contents.\n",
    "        Parameters:\n",
    "            name (str): the name of the backpack's owner.\n",
    "            color (str): the color of the backpack.\n",
    "            max_size (int): the maximum amount of items in the backpack.\n",
    "        \"\"\"\n",
    "        self.name = name\n",
    "        self.color = color\n",
    "        self.max_size = max_size\n",
    "        self.contents = []\n",
    "    \n",
    "    def put(self, item):\n",
    "        \"\"\"Check if there is room in the backpack. If there is,\n",
    "        add 'item' to the backpack's list of contents. Else, tell the user that there is no room.\"\"\"\n",
    "        if len(self.contents) >= self.max_size:\n",
    "            print(\"No Room!\")\n",
    "            return\n",
    "        else:\n",
    "            self.contents.append(item)  # Use 'self.contents', not just 'contents'.\n",
    "        \n",
    "    def take(self, item):\n",
    "        \"\"\"Remove 'item' from the backpack's list of contents.\"\"\"\n",
    "        self.contents.remove(item)\n",
    "        \n",
    "    def dump(self):\n",
    "        \"\"\"Dump all of the contents from the backpack.\"\"\"\n",
    "        self.contents = []"
   ]
  },
  {
   "cell_type": "code",
   "execution_count": 40,
   "metadata": {
    "scrolled": true
   },
   "outputs": [],
   "source": [
    "def test_backpack():\n",
    "    testpack = Backpack(\"Barry\", \"black\")       # Instantiate the object.\n",
    "    if testpack.name != \"Barry\":                # Test an attribute.\n",
    "        print(\"Backpack.name assigned incorrectly\")\n",
    "    for item in [\"pencil\", \"pen\", \"paper\", \"computer\"]:\n",
    "        testpack.put(item)                      # Test a method.\n",
    "    print(\"Contents:\", testpack.contents)\n",
    "    testpack.take(\"pencil\")\n",
    "    print(\"Contents:\", testpack.contents)\n",
    "    testpack.dump()\n",
    "    print(\"Contents:\", testpack.contents)"
   ]
  },
  {
   "cell_type": "code",
   "execution_count": 41,
   "metadata": {},
   "outputs": [
    {
     "name": "stdout",
     "output_type": "stream",
     "text": [
      "Contents: ['pencil', 'pen', 'paper', 'computer']\n",
      "Contents: ['pen', 'paper', 'computer']\n",
      "Contents: []\n"
     ]
    }
   ],
   "source": [
    "test_backpack()\n"
   ]
  },
  {
   "cell_type": "markdown",
   "metadata": {},
   "source": [
    "2."
   ]
  },
  {
   "cell_type": "code",
   "execution_count": 42,
   "metadata": {},
   "outputs": [],
   "source": [
    "# Inherit from the Backpack class in the class definition.\n",
    "class Jetpack(Backpack):\n",
    "    \"\"\"A Jetpack object class. Inherits from the Backpack class.\n",
    "    A jetpack is a fueled backpack.\n",
    "    Attributes:\n",
    "        name (str): the name of the jetpack's owner.\n",
    "        color (str): the color of the jetpack.\n",
    "        max_size (int): the maximum amount of fuel that can fit inside.\n",
    "        fuel_amount (int): how much fuel the with which the jetpack starts.\n",
    "\"\"\"\n",
    "    def __init__(self, name, color, max_size=2, fuel_amount=10):\n",
    "        \"\"\"Use the Backpack constructor to initialize the name, color,\n",
    "        and max_size attributes. A knapsack only holds 3 item by default.\n",
    "        Parameters:\n",
    "            name (str): the name of the jetpack's owner.\n",
    "            color (str): the color of the jetpack.\n",
    "            max_size (int): the maximum amount of fuel that can fit inside.\n",
    "            fuel_amount (int): how much fuel the with which the jetpack starts.\n",
    "\"\"\"\n",
    "        Backpack.__init__(self, name, color, max_size)\n",
    "        self.fuel_amount = fuel_amount\n",
    "        \n",
    "    def put(self, item):\n",
    "        \"\"\"Check if there is room in the backpack. If there is,\n",
    "        add 'item' to the backpack's list of contents. Else, tell the user that there is no room.\"\"\"\n",
    "        if len(self.contents) >= self.max_size:\n",
    "            print(\"No Room!\")\n",
    "            return\n",
    "        else:\n",
    "            self.contents.append(item)  # Use 'self.contents', not just 'contents'.\n",
    "        \n",
    "    def take(self, item):\n",
    "        \"\"\"Remove 'item' from the backpack's list of contents.\"\"\"\n",
    "        self.contents.remove(item)\n",
    "        \n",
    "    def fly(self, fuel_burned):\n",
    "        \"\"\"Check if there is enough fuel to burn. If so, burn the fuel. \n",
    "        Otherwise, let the user know there is not enough fuel.\"\"\"\n",
    "        if fuel_burned > self.fuel_amount:\n",
    "            print(\"Not enough fuel!\")\n",
    "            return\n",
    "        else:\n",
    "            self.fuel_amount = fuel_burned\n",
    "            \n",
    "    def dump(self):\n",
    "        \"\"\"Dump all of the contents and fuel from the backpack.\"\"\"\n",
    "        self.fuel_amount = []\n",
    "        self.contents = []"
   ]
  },
  {
   "cell_type": "markdown",
   "metadata": {},
   "source": [
    "3."
   ]
  },
  {
   "cell_type": "code",
   "execution_count": 43,
   "metadata": {},
   "outputs": [],
   "source": [
    "class Backpack:\n",
    "    \"\"\"A Backpack object class. Has a name, color, maximum size, and a list of contents.\n",
    "    Attributes:\n",
    "        name (str): the name of the backpack's owner.\n",
    "        color (str): the color of the backpack.\n",
    "        max_size (int): the maximum amount of items in the backpack.\n",
    "        contents (list): the contents of the backpack.\n",
    "    Functions:\n",
    "        put(): Add an item to the backpack.\n",
    "        take(): Remove and item from the backpack.\n",
    "        dump(): Remove all the contents from the backpack.\n",
    "    \"\"\"\n",
    "    \n",
    "    def __init__(self, name, color, max_size=5):           # This function is the constructor.\n",
    "        \"\"\"Set the name, color, and max_size and initialize an empty list of contents.\n",
    "        Parameters:\n",
    "            name (str): the name of the backpack's owner.\n",
    "            color (str): the color of the backpack.\n",
    "            max_size (int): the maximum amount of items in the backpack.\n",
    "        \"\"\"\n",
    "        self.name = name\n",
    "        self.color = color\n",
    "        self.max_size = max_size\n",
    "        self.contents = []\n",
    "    \n",
    "    def put(self, item):\n",
    "        \"\"\"Check if there is room in the backpack. If there is,\n",
    "        add 'item' to the backpack's list of contents. Else, tell the user that there is no room.\"\"\"\n",
    "        if len(self.contents) >= self.max_size:\n",
    "            print(\"No Room!\")\n",
    "            return\n",
    "        else:\n",
    "            self.contents.append(item)  # Use 'self.contents', not just 'contents'.\n",
    "        \n",
    "    def take(self, item):\n",
    "        \"\"\"Remove 'item' from the backpack's list of contents.\"\"\"\n",
    "        self.contents.remove(item)\n",
    "        \n",
    "    def dump(self):\n",
    "        \"\"\"Dump all of the contents from the backpack.\"\"\"\n",
    "        self.contents = []\n",
    "        \n",
    "    def __add__(self, other):\n",
    "        \"\"\"Add the number of contents of each Backpack.\"\"\"\n",
    "        return len(self.contents) + len(other.contents)\n",
    "    \n",
    "    def __lt__(self, other):\n",
    "        \"\"\"If 'self' has fewer contents than 'other', return True.\n",
    "        Otherwise, return False.\n",
    "        \"\"\"\n",
    "        return len(self.contents) < len(other.contents)\n",
    "\n",
    "    def __eq__(self, other):\n",
    "        \"\"\"If 'self' is the same as 'other', return True.\n",
    "        Otherwise, return False.\n",
    "        \"\"\"\n",
    "        return self.name == other.name and self.color == other.color and len(self.contents) == \\\n",
    "            len(other.contents)\n",
    "    \n",
    "    def __str__(self):\n",
    "        \"\"\"Construct a return a string representation for this backpack.\"\"\"\n",
    "        return \"Owner:\\t\\t{} \\nColor:\\t\\t{} \\nSize:\\t\\t{} \\nMax Size:\\t{} \\\n",
    "            \\nContents:\\t{}\".format(self.name, self.color, len(self.contents), self.max_size, self.contents)"
   ]
  },
  {
   "cell_type": "code",
   "execution_count": 46,
   "metadata": {},
   "outputs": [
    {
     "name": "stdout",
     "output_type": "stream",
     "text": [
      "Owner:\t\tRose \n",
      "Color:\t\tred \n",
      "Size:\t\t0 \n",
      "Max Size:\t5             \n",
      "Contents:\t[]\n"
     ]
    },
    {
     "data": {
      "text/plain": [
       "True"
      ]
     },
     "execution_count": 46,
     "metadata": {},
     "output_type": "execute_result"
    }
   ],
   "source": [
    "pack1 = Backpack(\"Rose\", \"red\")\n",
    "pack2 = Backpack(\"Rose\", \"red\")\n",
    "print(pack1)\n",
    "pack1==pack2"
   ]
  },
  {
   "cell_type": "markdown",
   "metadata": {},
   "source": [
    "4."
   ]
  },
  {
   "cell_type": "code",
   "execution_count": 47,
   "metadata": {},
   "outputs": [],
   "source": [
    "class ComplexNumber:\n",
    "    \n",
    "    def __init__(self, real, imag):\n",
    "        self.real = real\n",
    "        self.imag = imag\n",
    "        \n",
    "    def conjugate(self):\n",
    "        conj = ComplexNumber(self.real, -self.imag)\n",
    "        return conj\n",
    "    \n",
    "    def __str__(self):\n",
    "        if self.imag >= 0:\n",
    "            s = \"({}+{}j)\".format(self.real, self.imag)\n",
    "        else:\n",
    "            s = \"({}{}j)\".format(self.real, self.imag)\n",
    "        return s\n",
    "            \n",
    "    def __abs__(self):\n",
    "        return (self.real**2 + self.imag ** 2) ** .5\n",
    "    \n",
    "    def __eq__(self, other):\n",
    "        return self.real == other.real and self.imag == other.imag\n",
    "    \n",
    "    def __add__(self, other):\n",
    "        new_real = self.real + other.real\n",
    "        new_imag = self.imag + other.imag\n",
    "        return ComplexNumber(new_real, new_imag)\n",
    "        \n",
    "    def __sub__(self, other):\n",
    "        new_real = self.real - other.real\n",
    "        new_imag = self.imag - other.imag\n",
    "        return ComplexNumber(new_real, new_imag)\n",
    "    \n",
    "    def __mul__(self, other):\n",
    "        new_real = self.real * other.real - self.imag * other.imag\n",
    "        new_imag = self.real * other.imag + self.imag * other.real\n",
    "        return ComplexNumber(new_real, new_imag)\n",
    "        \n",
    "    def __truediv__(self, other):\n",
    "        t = self*other.conjugate()\n",
    "        b = (other*other.conjugate()).real\n",
    "        return ComplexNumber(t.real / b, t.imag/b)"
   ]
  },
  {
   "cell_type": "code",
   "execution_count": 48,
   "metadata": {},
   "outputs": [],
   "source": [
    "def test_ComplexNumber(a, b):\n",
    "    py_cnum, my_cnum = complex(a, b), ComplexNumber(a, b)\n",
    "    # Validate the constructor.\n",
    "    if my_cnum.real != a or my_cnum.imag != b:\n",
    "        print(\"__init__() set self.real and self.imag incorrectly\")\n",
    "    # Validate conjugate() by checking the new number's imag attribute.\n",
    "    if py_cnum.conjugate().imag != my_cnum.conjugate().imag:\n",
    "        print(\"conjugate() failed for\", py_cnum)\n",
    "    # Validate __str__().\n",
    "    if str(py_cnum) != str(my_cnum):\n",
    "        print(\"__str__() failed for\", py_cnum)\n",
    "    if abs(py_cnum) != abs(my_cnum):\n",
    "        print(\"__abs__() failed for\", py_cnum)\n",
    "    if my_cnum != my_cnum:\n",
    "        print(\"__eq__() failed for\", py_cnum)    \n",
    "    if py_cnum + py_cnum != my_cnum + my_cnum:\n",
    "        print(\"__add__() failed for\", py_cnum)\n",
    "    if py_cnum - py_cnum != my_cnum - my_cnum:\n",
    "        print(\"__sub__() failed for\", py_cnum)\n",
    "    if py_cnum * py_cnum != my_cnum * my_cnum:\n",
    "        print(\"__mul__() failed for\", py_cnum)    \n",
    "    if py_cnum / py_cnum != my_cnum / my_cnum:\n",
    "        print(\"__truediv__() failed for\", py_cnum)"
   ]
  },
  {
   "cell_type": "code",
   "execution_count": 49,
   "metadata": {},
   "outputs": [],
   "source": [
    "test_ComplexNumber(3, -4)\n",
    "test_ComplexNumber(2, 5)"
   ]
  },
  {
   "cell_type": "markdown",
   "metadata": {},
   "source": [
    "### Exceptions and File I/O\n",
    "1."
   ]
  },
  {
   "cell_type": "code",
   "execution_count": 2,
   "metadata": {},
   "outputs": [],
   "source": [
    "def arithmagic():\n",
    "    step_1 = input(\"Enter a 3-digit number where the first and last \"\n",
    "                                           \"digits differ by 2 or more: \")\n",
    "    if len(step_1) != 3:\n",
    "        raise ValueError(\"The first number is not a 3-digit number.\")\n",
    "    if abs(int(step_1[2])-int(step_1[0])) < 2:\n",
    "        raise ValueError(\"The first number’s first and last digits differ by less than 2.\")\n",
    "    step_2 = input(\"Enter the reverse of the first number, obtained \"\n",
    "                                              \"by reading it backwards: \")\n",
    "    if int(step_2[2]) != int(step_1[0]) or int(step_2[0]) != int(step_1[2]) or int(step_2[1]) != int(step_1[1]):\n",
    "        raise ValueError(\"The second number is not the reverse of the first number.\")\n",
    "    step_3 = input(\"Enter the positive difference of these numbers: \")\n",
    "    if int(step_3) != abs(int(step_1)-int(step_2)):\n",
    "        raise ValueError(\"The third number is not the positive difference of the first two numbers.\")\n",
    "    step_4 = input(\"Enter the reverse of the previous result: \")\n",
    "    if int(step_4[2]) != int(step_3[0]) or int(step_4[0]) != int(step_3[2]) or int(step_4[1]) != int(step_3[1]):\n",
    "        raise ValueError(\"The fourth number is not the reverse of the third number.\")\n",
    "    print(str(step_3), \"+\", str(step_4), \"= 1089 (ta-da!)\")"
   ]
  },
  {
   "cell_type": "code",
   "execution_count": 3,
   "metadata": {},
   "outputs": [
    {
     "name": "stdout",
     "output_type": "stream",
     "text": [
      "Enter a 3-digit number where the first and last digits differ by 2 or more: 123\n",
      "Enter the reverse of the first number, obtained by reading it backwards: 321\n",
      "Enter the positive difference of these numbers: 198\n",
      "Enter the reverse of the previous result: 891\n",
      "198 + 891 = 1089 (ta-da!)\n"
     ]
    }
   ],
   "source": [
    "arithmagic()\n"
   ]
  },
  {
   "cell_type": "markdown",
   "metadata": {},
   "source": [
    "2."
   ]
  },
  {
   "cell_type": "code",
   "execution_count": 55,
   "metadata": {},
   "outputs": [],
   "source": [
    "from random import choice\n",
    "\n",
    "def random_walk(max_iters=1e12):\n",
    "    walk = 0\n",
    "    directions = [1, -1]\n",
    "    try:\n",
    "        for i in range(int(max_iters)):\n",
    "            walk += choice(directions)\n",
    "    except KeyboardInterrupt:\n",
    "        print(\"Process interrupted at iteration {}\".format(i))\n",
    "    else:\n",
    "        print(\"Process completed\")\n",
    "    finally:\n",
    "        return(walk)"
   ]
  },
  {
   "cell_type": "code",
   "execution_count": 56,
   "metadata": {},
   "outputs": [
    {
     "name": "stdout",
     "output_type": "stream",
     "text": [
      "Process interrupted at iteration 21012830\n",
      "-9972\n"
     ]
    }
   ],
   "source": [
    "print(random_walk())\n"
   ]
  },
  {
   "cell_type": "markdown",
   "metadata": {},
   "source": [
    "3."
   ]
  },
  {
   "cell_type": "code",
   "execution_count": 4,
   "metadata": {},
   "outputs": [],
   "source": [
    "class ContentFilter(object):\n",
    "    def __init__(self, filename):\n",
    "        self.filename = filename\n",
    "        try:\n",
    "            with open(self.filename,\"r\") as myfile:\n",
    "                self.contents = myfile.read().split('\\n')\n",
    "        except FileNotFoundError:\n",
    "            filename = input(\"Please enter a valid file name:\")\n",
    "            ContentFilter(filename)\n",
    "        except TypeError:\n",
    "            filename = input(\"Please enter a valid file name:\")\n",
    "            ContentFilter(filename)\n",
    "        except OSError:\n",
    "            filename = str(input(\"Please enter a valid file name:\"))\n",
    "            ContentFilter(filename)"
   ]
  },
  {
   "cell_type": "code",
   "execution_count": 5,
   "metadata": {},
   "outputs": [
    {
     "name": "stdout",
     "output_type": "stream",
     "text": [
      "Please enter a valid file name:cf_example1.txt\n"
     ]
    }
   ],
   "source": [
    "cf1 = ContentFilter(\"cf_example.txt\")\n"
   ]
  },
  {
   "cell_type": "markdown",
   "metadata": {},
   "source": [
    "4."
   ]
  },
  {
   "cell_type": "code",
   "execution_count": 6,
   "metadata": {},
   "outputs": [],
   "source": [
    "class ContentFilter(object):\n",
    "    def __init__(self, filename):\n",
    "        self.filename = filename\n",
    "        try:\n",
    "            with open(self.filename,\"r\") as myfile:\n",
    "                self.contents = myfile.read().split('\\n')\n",
    "        except FileNotFoundError:\n",
    "            filename = input(\"Please enter a valid file name:\")\n",
    "            ContentFilter(filename)\n",
    "        except TypeError:\n",
    "            self.filename = input(\"Please enter a valid file name:\")\n",
    "            ContentFilter(filename)\n",
    "        except OSError:\n",
    "            self.filename = input(\"Please enter a valid file name:\")\n",
    "            ContentFilter(filename)\n",
    "        self.total = 0\n",
    "        self.alpha = 0\n",
    "        self.digit = 0\n",
    "        self.whitespace = 0\n",
    "        self.line = len(self.contents)\n",
    "        for i in range(self.line):\n",
    "            for j in range(len(self.contents[i])):\n",
    "                self.total += 1\n",
    "                if self.contents[i][j].isspace():\n",
    "                    self.whitespace += 1\n",
    "                if self.contents[i][j].isdigit():\n",
    "                    self.digit += 1\n",
    "                if self.contents[i][j].isalpha():\n",
    "                    self.alpha += 1\n",
    "            \n",
    "            \n",
    "    def uniform(self, new_filename, mode='w', case=\"upper\"):\n",
    "        if mode not in ['w','x','a']:\n",
    "            raise ValueError(\"Mode is not 'w', 'x', or 'a'\")\n",
    "        if case not in ['upper','lower']:\n",
    "            raise ValueError(\"Case is not 'upper' or 'lower'\")\n",
    "        with open(new_filename, mode) as newfile:\n",
    "            for i in range(len(self.contents)):\n",
    "                if case == \"upper\":\n",
    "                    newfile.write(self.contents[i].upper() + \"\\n\")\n",
    "                elif case == \"lower\":\n",
    "                    newfile.write(self.contents[i].lower() + \"\\n\")\n",
    "                    \n",
    "    def reverse(self, new_filename, mode='w', unit =\"line\"):\n",
    "        if mode not in ['w','x','a']:\n",
    "            raise ValueError(\"Mode is not 'w', 'x', or 'a'\")\n",
    "        if unit not in ['line','word']:\n",
    "            raise ValueError(\"Case is not 'line' or 'unit'\")\n",
    "        with open(new_filename, mode) as newfile:\n",
    "                if unit == \"word\":\n",
    "                    for i in range(len(self.contents)):\n",
    "                        newfile.write(self.contents[i][::-1] + \"\\n\")\n",
    "                elif unit == \"line\":\n",
    "                    for i in range(len(self.contents)):\n",
    "                        newfile.write(self.contents[::-1][i] + \"\\n\")\n",
    "                        \n",
    "    def transpose(self, new_filename, mode='w'):\n",
    "        if mode not in ['w','x','a']:\n",
    "            raise ValueError(\"Mode is not 'w', 'x', or 'a'\")\n",
    "        with open(new_filename, mode) as newfile:\n",
    "            for i in range(len(self.contents[0].split())):\n",
    "                new_line = []\n",
    "                for j in range(len(self.contents)):\n",
    "                    content = self.contents[j].split()\n",
    "                    new_line.append(content[i])\n",
    "                newfile.write(\" \".join(new_line) + \"\\n\")\n",
    "    def __str__(self):\n",
    "        return \"Source file: {}\".format(self.filename) + \"\\n\" + \"Total characters: {}\".format(self.total) + \"\\n\" + \"Alphabetic characters: {}\".format(self.alpha) \\\n",
    "                + \"\\n\" + \"Numerical characters: {}\".format(self.digit) + \"\\n\" + \"Whitespace characters: {}\".format(self.whitespace) + \"\\n\" + \"Number of lines: {}\".format(self.line)"
   ]
  },
  {
   "cell_type": "code",
   "execution_count": 7,
   "metadata": {},
   "outputs": [],
   "source": [
    "cf = ContentFilter(\"cf_example1.txt\")\n"
   ]
  },
  {
   "cell_type": "code",
   "execution_count": 8,
   "metadata": {},
   "outputs": [],
   "source": [
    "cf.uniform(\"uniform.txt\", mode='a', case=\"lower\")"
   ]
  },
  {
   "cell_type": "code",
   "execution_count": 9,
   "metadata": {},
   "outputs": [],
   "source": [
    "cf.reverse(\"reverse.txt\", mode='w', unit=\"word\")\n",
    "cf.reverse(\"reverse.txt\", mode='a', unit=\"line\")\n",
    "cf.transpose(\"transpose.txt\", mode='w')"
   ]
  },
  {
   "cell_type": "code",
   "execution_count": 10,
   "metadata": {},
   "outputs": [
    {
     "name": "stdout",
     "output_type": "stream",
     "text": [
      "Source file: cf_example1.txt\n",
      "Total characters: 51933\n",
      "Alphabetic characters: 29297\n",
      "Numerical characters: 5294\n",
      "Whitespace characters: 7742\n",
      "Number of lines: 815\n"
     ]
    }
   ],
   "source": [
    "print(cf)"
   ]
  },
  {
   "cell_type": "markdown",
   "metadata": {},
   "source": [
    "### Unit testing\n",
    "\n",
    "Please see file solutions.py and test_solutions.py"
   ]
  },
  {
   "cell_type": "code",
   "execution_count": null,
   "metadata": {},
   "outputs": [],
   "source": []
  },
  {
   "cell_type": "code",
   "execution_count": null,
   "metadata": {},
   "outputs": [],
   "source": []
  },
  {
   "cell_type": "code",
   "execution_count": null,
   "metadata": {},
   "outputs": [],
   "source": []
  },
  {
   "cell_type": "code",
   "execution_count": null,
   "metadata": {},
   "outputs": [],
   "source": []
  },
  {
   "cell_type": "code",
   "execution_count": null,
   "metadata": {},
   "outputs": [],
   "source": []
  },
  {
   "cell_type": "code",
   "execution_count": null,
   "metadata": {},
   "outputs": [],
   "source": []
  },
  {
   "cell_type": "code",
   "execution_count": null,
   "metadata": {},
   "outputs": [],
   "source": []
  },
  {
   "cell_type": "code",
   "execution_count": null,
   "metadata": {},
   "outputs": [],
   "source": []
  },
  {
   "cell_type": "code",
   "execution_count": null,
   "metadata": {},
   "outputs": [],
   "source": []
  },
  {
   "cell_type": "code",
   "execution_count": null,
   "metadata": {},
   "outputs": [],
   "source": []
  },
  {
   "cell_type": "code",
   "execution_count": null,
   "metadata": {},
   "outputs": [],
   "source": []
  },
  {
   "cell_type": "code",
   "execution_count": null,
   "metadata": {},
   "outputs": [],
   "source": []
  },
  {
   "cell_type": "code",
   "execution_count": null,
   "metadata": {},
   "outputs": [],
   "source": []
  }
 ],
 "metadata": {
  "kernelspec": {
   "display_name": "Python 3",
   "language": "python",
   "name": "python3"
  },
  "language_info": {
   "codemirror_mode": {
    "name": "ipython",
    "version": 3
   },
   "file_extension": ".py",
   "mimetype": "text/x-python",
   "name": "python",
   "nbconvert_exporter": "python",
   "pygments_lexer": "ipython3",
   "version": "3.6.4"
  }
 },
 "nbformat": 4,
 "nbformat_minor": 2
}
