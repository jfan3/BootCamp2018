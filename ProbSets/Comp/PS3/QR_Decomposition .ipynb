{
 "cells": [
  {
   "cell_type": "markdown",
   "metadata": {},
   "source": [
    "### Fiona Fan\n",
    "Problem 1"
   ]
  },
  {
   "cell_type": "code",
   "execution_count": 31,
   "metadata": {},
   "outputs": [],
   "source": [
    "import numpy as np\n",
    "from scipy import linalg as la\n",
    "import cmath"
   ]
  },
  {
   "cell_type": "code",
   "execution_count": 32,
   "metadata": {},
   "outputs": [],
   "source": [
    "\n",
    "def QR(A):\n",
    "    (m,n) = A.shape\n",
    "    \n",
    "    Q=np.copy(A)\n",
    "    \n",
    "    R=np.zeros((n,n))\n",
    "    \n",
    "    for i in range (n):\n",
    "        R[i,i]=la.norm(Q[:,i])\n",
    "        Q[:,i]=Q[:,i]/R[i,i]\n",
    "        for j in range (i+1,n):\n",
    "            R[i,j]=np.dot(np.transpose(Q[:,j]),Q[:,i])\n",
    "            Q[:,j]=Q[:,j]-R[i,j]*Q[:,i]\n",
    "    \n",
    "    return Q,R"
   ]
  },
  {
   "cell_type": "code",
   "execution_count": 33,
   "metadata": {},
   "outputs": [
    {
     "name": "stdout",
     "output_type": "stream",
     "text": [
      "(6, 4) (6, 4) (4, 4)\n"
     ]
    }
   ],
   "source": [
    "A=np.random.random((6,4))\n",
    "Q,R=QR(A)\n",
    "print(A.shape,Q.shape,R.shape)"
   ]
  },
  {
   "cell_type": "code",
   "execution_count": 34,
   "metadata": {},
   "outputs": [
    {
     "name": "stdout",
     "output_type": "stream",
     "text": [
      "(6, 4) (6, 4) (4, 4)\n"
     ]
    }
   ],
   "source": [
    "Q1,R1=la.qr(A,mode=\"economic\")\n",
    "print(A.shape,Q1.shape,R1.shape)"
   ]
  },
  {
   "cell_type": "code",
   "execution_count": 35,
   "metadata": {},
   "outputs": [
    {
     "data": {
      "text/plain": [
       "True"
      ]
     },
     "execution_count": 35,
     "metadata": {},
     "output_type": "execute_result"
    }
   ],
   "source": [
    "np.allclose(np.triu(R),R)"
   ]
  },
  {
   "cell_type": "code",
   "execution_count": 36,
   "metadata": {},
   "outputs": [
    {
     "data": {
      "text/plain": [
       "True"
      ]
     },
     "execution_count": 36,
     "metadata": {},
     "output_type": "execute_result"
    }
   ],
   "source": [
    "np.allclose(Q.T@Q, np.identity(4))"
   ]
  },
  {
   "cell_type": "code",
   "execution_count": 37,
   "metadata": {},
   "outputs": [
    {
     "data": {
      "text/plain": [
       "True"
      ]
     },
     "execution_count": 37,
     "metadata": {},
     "output_type": "execute_result"
    }
   ],
   "source": [
    "np.allclose(Q@R,A)"
   ]
  },
  {
   "cell_type": "markdown",
   "metadata": {},
   "source": [
    "Problem 2"
   ]
  },
  {
   "cell_type": "code",
   "execution_count": 38,
   "metadata": {},
   "outputs": [],
   "source": [
    "def getDet(A):\n",
    "    m,n = A.shape\n",
    "    if m!=n:\n",
    "        print(\"A is not a squre.\")\n",
    "        return\n",
    "    \n",
    "    Q1, R1 = QR(A)\n",
    "    det = 1\n",
    "    for i in range(n):\n",
    "        det *= R1[i,i]\n",
    "    return det"
   ]
  },
  {
   "cell_type": "code",
   "execution_count": 39,
   "metadata": {},
   "outputs": [
    {
     "name": "stdout",
     "output_type": "stream",
     "text": [
      "Error:  -0.09531412575159198\n"
     ]
    }
   ],
   "source": [
    "B = np.random.random((5,5))\n",
    "true_det = la.det(B)\n",
    "my_det = getDet(B)\n",
    "print(\"Error: \", true_det - my_det)"
   ]
  },
  {
   "cell_type": "markdown",
   "metadata": {},
   "source": [
    "Problem 3"
   ]
  },
  {
   "cell_type": "code",
   "execution_count": 40,
   "metadata": {},
   "outputs": [],
   "source": [
    "def solveLinearSystem(A, b):\n",
    "    #A is a n*n linear matrix, invertible b is n*1\n",
    "    if abs(la.det(A))<1e-6:\n",
    "        print(\"A is not invertible\")\n",
    "        return\n",
    "    Q1, R1 = QR(A)\n",
    "    y = np.dot(np.transpose(Q1), b)\n",
    "    m, n = A.shape\n",
    "    x = np.empty(n)\n",
    "    for i in range(n-1, -1, -1):\n",
    "        x[i] = y[i] / R1[i,i]\n",
    "        #update y\n",
    "        for j in range(n):\n",
    "            y[j] = y[j] - R1[j,i]*x[i]\n",
    "        \n",
    "    return x"
   ]
  },
  {
   "cell_type": "code",
   "execution_count": 41,
   "metadata": {},
   "outputs": [
    {
     "name": "stdout",
     "output_type": "stream",
     "text": [
      "[1. 2. 3. 4. 5.]\n"
     ]
    }
   ],
   "source": [
    "A2 = np.random.random((5,5))\n",
    "#add diagonals to make it invertible\n",
    "A2 = A2 + 100*np.eye(5)\n",
    "b2 = np.array([1,2,3,4,5])\n",
    "print(np.dot(A2, solveLinearSystem(A2, b2)))\n"
   ]
  },
  {
   "cell_type": "markdown",
   "metadata": {},
   "source": [
    "Problem 4"
   ]
  },
  {
   "cell_type": "code",
   "execution_count": 42,
   "metadata": {},
   "outputs": [],
   "source": [
    "def householder(A):\n",
    "    #A should be a matrix of m*n and has rank n\n",
    "    sign = lambda x : 1 if x>= 0 else -1\n",
    "    \n",
    "    m, n = A.shape\n",
    "    R = np.copy(A)\n",
    "    Q = np.eye(m)\n",
    "    for k in range(n):\n",
    "        u = np.copy(R[k:, k])\n",
    "        u[0] = u[0] + sign(u[0])*la.norm(u)\n",
    "        u = u / la.norm(u)\n",
    "        R[k:, k:] = R[k:, k:] - 2 * np.outer(u, np.matmul(np.transpose(u), R[k:, k:]))\n",
    "        Q[k:, :] = Q[k:, :] - 2 * np.outer(u, np.matmul(np.transpose(u), Q[k:, :]))\n",
    "    return np.transpose(Q), R"
   ]
  },
  {
   "cell_type": "code",
   "execution_count": 43,
   "metadata": {},
   "outputs": [
    {
     "name": "stdout",
     "output_type": "stream",
     "text": [
      "(5, 3) (5, 5) (5, 3)\n"
     ]
    }
   ],
   "source": [
    "A = np.random.random((5,3))\n",
    "Q, R = la.qr(A)\n",
    "print(A.shape, Q.shape, R.shape)"
   ]
  },
  {
   "cell_type": "code",
   "execution_count": 44,
   "metadata": {},
   "outputs": [
    {
     "data": {
      "text/plain": [
       "True"
      ]
     },
     "execution_count": 44,
     "metadata": {},
     "output_type": "execute_result"
    }
   ],
   "source": [
    "my_Q, my_R = householder(A)\n",
    "np.allclose(my_Q@my_R, A)"
   ]
  },
  {
   "cell_type": "code",
   "execution_count": 45,
   "metadata": {},
   "outputs": [
    {
     "data": {
      "text/plain": [
       "True"
      ]
     },
     "execution_count": 45,
     "metadata": {},
     "output_type": "execute_result"
    }
   ],
   "source": [
    "np.allclose(my_Q, Q)"
   ]
  },
  {
   "cell_type": "code",
   "execution_count": 46,
   "metadata": {
    "scrolled": true
   },
   "outputs": [
    {
     "data": {
      "text/plain": [
       "True"
      ]
     },
     "execution_count": 46,
     "metadata": {},
     "output_type": "execute_result"
    }
   ],
   "source": [
    "np.allclose(my_R, R)"
   ]
  },
  {
   "cell_type": "markdown",
   "metadata": {},
   "source": [
    "Problem 5"
   ]
  },
  {
   "cell_type": "code",
   "execution_count": 47,
   "metadata": {},
   "outputs": [],
   "source": [
    "def hess(A):\n",
    "    sign = lambda x : 1 if x>= 0 else -1\n",
    "    \n",
    "    #A is an invertible n*n matrix\n",
    "    m, n = A.shape\n",
    "    H = np.copy(A)\n",
    "    Q = np.eye(m)\n",
    "    for k in range(n-2):\n",
    "        u = np.copy(H[k+1:, k])\n",
    "        u[0] += sign(u[0]) * la.norm(u)\n",
    "        u = u / la.norm(u)\n",
    "        \n",
    "        H[k+1: ,k:] -= 2 * np.outer(u, np.matmul(u, H[k+1:, k:]))\n",
    "        H[:, k+1:] = H[:, k+1:] - 2 * np.outer(np.dot(H[:, k+1:], u), u.T)\n",
    "        Q[k+1:, :] -= 2 * np.outer(u, np.matmul(np.transpose(u),Q[k+1:, :]))\n",
    "\n",
    "    return H, np.transpose(Q)\n",
    "\n",
    "A5 = np.random.random((8,8))\n",
    "#add diagonals to make it invertible\n",
    "A5 += 5*np.eye(8)\n",
    "H, Q = la.hessenberg(A5, calc_q = True)\n",
    "my_H, my_Q = hess(A5)\n"
   ]
  },
  {
   "cell_type": "code",
   "execution_count": 48,
   "metadata": {},
   "outputs": [
    {
     "data": {
      "text/plain": [
       "True"
      ]
     },
     "execution_count": 48,
     "metadata": {},
     "output_type": "execute_result"
    }
   ],
   "source": [
    "np.allclose(my_H, H)"
   ]
  },
  {
   "cell_type": "code",
   "execution_count": 49,
   "metadata": {},
   "outputs": [
    {
     "data": {
      "text/plain": [
       "True"
      ]
     },
     "execution_count": 49,
     "metadata": {},
     "output_type": "execute_result"
    }
   ],
   "source": [
    "np.allclose(my_Q, Q)"
   ]
  },
  {
   "cell_type": "markdown",
   "metadata": {},
   "source": [
    "Part 2 \n",
    "\n",
    "Problem 1 "
   ]
  },
  {
   "cell_type": "code",
   "execution_count": 50,
   "metadata": {},
   "outputs": [],
   "source": [
    "def leastsqbyQR(A, b):\n",
    "    #A is a m*n matrix, b is n*1 vector\n",
    "    Q, R = la.qr(A, mode = \"economic\")\n",
    "    #the linear system then becomes R \\hat{x} = Q.T b\n",
    "    #print(R)\n",
    "    \n",
    "    y = np.dot(np.transpose(Q), b)\n",
    "    m, n = A.shape\n",
    "    x_hat = np.empty(n)\n",
    "    for i in range(n-1, -1, -1):\n",
    "        x_hat[i] = y[i] / R[i,i]\n",
    "        #update y\n",
    "        for j in range(n):\n",
    "            y[j] = y[j] - R[j,i]*x_hat[i]\n",
    "        \n",
    "    return x_hat"
   ]
  },
  {
   "cell_type": "code",
   "execution_count": 51,
   "metadata": {
    "scrolled": true
   },
   "outputs": [
    {
     "data": {
      "text/plain": [
       "array([0.4, 0.8])"
      ]
     },
     "execution_count": 51,
     "metadata": {},
     "output_type": "execute_result"
    }
   ],
   "source": [
    "Als = np.array([[-1,1], [0, 1], [1, 1], [2,1]])\n",
    "bls = np.array([0 ,1 ,2,1])\n",
    "leastsqbyQR(Als, bls)"
   ]
  },
  {
   "cell_type": "markdown",
   "metadata": {},
   "source": [
    "Problem 2"
   ]
  },
  {
   "cell_type": "code",
   "execution_count": 52,
   "metadata": {},
   "outputs": [],
   "source": [
    "import matplotlib.pyplot as plt\n",
    "def fitLine():\n",
    "    data = np.load(\"housing.npy\")\n",
    "    years = data[:, 0]\n",
    "    prices = data[:, 1]\n",
    "    \n",
    "    constants = np.ones(len(years))\n",
    "    A = np.column_stack((years, constants))\n",
    "    coeff = leastsqbyQR(A, prices)\n",
    "    print(\"Slope: \", coeff[0], \"Intercept: \", coeff[1])\n",
    "    plt.plot(years, prices, \"o\", markersize = 4)\n",
    "    plt.xlabel(\"Year\")\n",
    "    plt.ylabel(\"Price Index\")\n",
    "    plt.title(\"Regression Line of Price Index with Year\")\n",
    "    plt.plot(np.arange(18), coeff[0]*np.arange(18)+coeff[1])\n",
    "    plt.show()\n",
    "    \n",
    "    \n",
    "    "
   ]
  },
  {
   "cell_type": "code",
   "execution_count": 53,
   "metadata": {
    "scrolled": true
   },
   "outputs": [
    {
     "name": "stdout",
     "output_type": "stream",
     "text": [
      "Slope:  3.3747660427807404 Intercept:  164.080962566845\n"
     ]
    },
    {
     "data": {
      "image/png": "[encoded data removed]",
      "text/plain": [
       "<matplotlib.figure.Figure at 0x1eba0d64cc0>"
      ]
     },
     "metadata": {},
     "output_type": "display_data"
    }
   ],
   "source": [
    "fitLine()"
   ]
  },
  {
   "cell_type": "markdown",
   "metadata": {},
   "source": [
    "Problem 3"
   ]
  },
  {
   "cell_type": "code",
   "execution_count": 54,
   "metadata": {},
   "outputs": [
    {
     "name": "stdout",
     "output_type": "stream",
     "text": [
      "Is the calculated result the same from np.polyfut?  True\n"
     ]
    },
    {
     "data": {
      "image/png": "[encoded data removed]",
      "text/plain": [
       "<matplotlib.figure.Figure at 0x1eba0c71898>"
      ]
     },
     "metadata": {},
     "output_type": "display_data"
    }
   ],
   "source": [
    "def fit_degree_n(n, x_vec, b_vec):\n",
    "    # a degree n polynomial should have the form [a_n, a_{n-1}, ..., a_1, a_0].T * [x^n, ,,,, x, 1]\n",
    "    # create a vandermonde matrix \n",
    "    A = np.vander(x_vec, n+1)\n",
    "    coeff = la.lstsq(A, b_vec)[0]\n",
    "    \n",
    "    #regression polynomial\n",
    "    my_poly = np.poly1d(coeff)\n",
    "    \n",
    "    #plot true values\n",
    "    plt.plot(x_vec, b_vec, \"o\", markersize = 4)\n",
    "    plt.xlabel(\"Year\")\n",
    "    plt.ylabel(\"Price Index\")\n",
    "    plt.title(\"Fit polynomial of degree n\")\n",
    "    \n",
    "    #plot estimated values\n",
    "    x_start = x_vec.min()\n",
    "    x_end = x_vec.max()\n",
    "    my_label = \"degree \" +str(n)\n",
    "    plt.plot(np.linspace(x_start, x_end, 100), my_poly(np.linspace(x_start, x_end, 100)), label = my_label)\n",
    "    plt.legend()\n",
    "    \n",
    "    #check with polyfit\n",
    "    pf = np.polyfit(x_vec, b_vec, n)\n",
    "    print(\"Is the calculated result the same from np.polyfut? \", np.allclose(coeff, pf))\n",
    "    \n",
    "    plt.show()\n",
    "    \n",
    "\n",
    "data = np.load(\"housing.npy\")\n",
    "years = data[:, 0]\n",
    "prices = data[:, 1]\n",
    "#degree 3\n",
    "fit_degree_n(3, years, prices)\n",
    "\n",
    "    "
   ]
  },
  {
   "cell_type": "code",
   "execution_count": 55,
   "metadata": {},
   "outputs": [
    {
     "name": "stdout",
     "output_type": "stream",
     "text": [
      "Is the calculated result the same from np.polyfut?  True\n"
     ]
    },
    {
     "data": {
      "image/png": "[encoded data removed]",
      "text/plain": [
       "<matplotlib.figure.Figure at 0x1eba0e14978>"
      ]
     },
     "metadata": {},
     "output_type": "display_data"
    }
   ],
   "source": [
    "#degree 6\n",
    "fit_degree_n(6, years, prices)"
   ]
  },
  {
   "cell_type": "code",
   "execution_count": 56,
   "metadata": {},
   "outputs": [
    {
     "name": "stdout",
     "output_type": "stream",
     "text": [
      "Is the calculated result the same from np.polyfut?  True\n"
     ]
    },
    {
     "data": {
      "image/png": "[encoded data removed]",
      "text/plain": [
       "<matplotlib.figure.Figure at 0x1eba0d34518>"
      ]
     },
     "metadata": {},
     "output_type": "display_data"
    }
   ],
   "source": [
    "#degree 9\n",
    "fit_degree_n(9, years, prices)"
   ]
  },
  {
   "cell_type": "code",
   "execution_count": 57,
   "metadata": {},
   "outputs": [
    {
     "name": "stdout",
     "output_type": "stream",
     "text": [
      "Is the calculated result the same from np.polyfut?  False\n"
     ]
    },
    {
     "data": {
      "image/png": "[encoded data removed]",
      "text/plain": [
       "<matplotlib.figure.Figure at 0x1eba0be0cc0>"
      ]
     },
     "metadata": {},
     "output_type": "display_data"
    }
   ],
   "source": [
    "#degree 12\n",
    "fit_degree_n(12, years, prices)"
   ]
  },
  {
   "cell_type": "markdown",
   "metadata": {},
   "source": [
    "Problem 4"
   ]
  },
  {
   "cell_type": "markdown",
   "metadata": {},
   "source": [
    "Observe that the standard  equation of an ellipse is $$\\frac{x^2}{a^2} + \\frac{y^2}{b^2} = 1.$$ Let $m=\\frac{1}{a^2}, n=\\frac{1}{b^2}.$ It follows that $$mx^2 + ny^2 = 1.$$ This is a linear system in $m$ and $n$.\n",
    "To plot the ellipse, we simply let $x=a\\cos(\\theta), y=b\\sin(\\theta)$."
   ]
  },
  {
   "cell_type": "code",
   "execution_count": 58,
   "metadata": {},
   "outputs": [
    {
     "data": {
      "image/png": "[encoded data removed]",
      "text/plain": [
       "<matplotlib.figure.Figure at 0x1eba0974a20>"
      ]
     },
     "metadata": {},
     "output_type": "display_data"
    }
   ],
   "source": [
    "ellipse = np.load(\"ellipse.npy\")\n",
    "#print(ellipse)\n",
    "x_vec = ellipse[:, 0]\n",
    "y_vec = ellipse[:, 1]\n",
    "\n",
    "def drawAnFittedellipse(x_vec, y_vec):\n",
    "   #create a linear systems\n",
    "    x2_vec = x_vec **2\n",
    "    y2_vec = y_vec **2\n",
    "    #RHS is a columns of ones\n",
    "    b_vec = np.ones_like(x_vec)\n",
    "    A = np.column_stack((x2_vec, y2_vec))\n",
    "    coeff = la.lstsq(A, b_vec)[0]\n",
    "    a = np.sqrt(1.0 / coeff[0])\n",
    "    b = np.sqrt(1.0 / coeff[1])\n",
    "    \n",
    "    #plot\n",
    "    plt.plot(x_vec, y_vec, \"o\", markersize = 4)\n",
    "    theta_grid = np.linspace(0, 2*np.pi, 360)\n",
    "    plt.plot(a*np.cos(theta_grid), b*(np.sin(theta_grid)))\n",
    "    plt.title(\"Fit in an ellipse\")\n",
    "    plt.show()\n",
    "drawAnFittedellipse(x_vec, y_vec)"
   ]
  },
  {
   "cell_type": "code",
   "execution_count": 59,
   "metadata": {
    "scrolled": true
   },
   "outputs": [
    {
     "name": "stdout",
     "output_type": "stream",
     "text": [
      "_______\n",
      "Does the eigvalue converge to true eigvalue?\n",
      "True\n",
      "Does the corresponding eigenvector satisfy Ax = lambda x?\n",
      "True\n"
     ]
    }
   ],
   "source": [
    "def powerMethod(A, maxItr, tol):\n",
    "    print(\"_______\")\n",
    "    m, n = A.shape\n",
    "    x_0 = np.random.rand(n) + np.ones(n) # make it larger to avoid rounding error\n",
    "    x_0 = x_0 / la.norm(x_0)\n",
    "    currentItr = 0\n",
    "    diff = 10\n",
    "    \n",
    "    while (currentItr<maxItr) or (diff > tol):\n",
    "        x_prime = np.matmul(A, x_0)\n",
    "        x_prime = x_prime / la.norm(x_prime)\n",
    "        diff = la.norm(x_prime - x_0)\n",
    "        x_0 = x_prime\n",
    "        currentItr += 1\n",
    "    eigval = np.dot(x_0, np.matmul(A, x_0))\n",
    "    eigvec = x_0\n",
    "    return eigval, eigvec\n",
    "\n",
    "A = (np.random.random((10,10)) ) # make it larger to avoid rounding error\n",
    "eigs, vec = la.eig(A)\n",
    "loc = np.argmax(eigs)\n",
    "lamb , x = eigs[loc], vec[loc]\n",
    "my_lamb, my_x = powerMethod(A, 10000, 1e-16)\n",
    "print(\"Does the eigvalue converge to true eigvalue?\")\n",
    "print(np.allclose(lamb, my_lamb))\n",
    "print(\"Does the corresponding eigenvector satisfy Ax = lambda x?\")\n",
    "print(np.allclose(np.abs(my_lamb * my_x), np.abs(np.dot(A, my_x))))\n",
    "\n",
    "    "
   ]
  },
  {
   "cell_type": "markdown",
   "metadata": {},
   "source": [
    "Problem 6 "
   ]
  },
  {
   "cell_type": "code",
   "execution_count": 61,
   "metadata": {},
   "outputs": [
    {
     "name": "stdout",
     "output_type": "stream",
     "text": [
      "Calculation:  [-0.5849068946624978, -0.031808538631748165, 0.39059948762214014, 1.1154873315272977, 5.825087210040732]\n",
      "True values:  [-0.58490689+0.j -0.03180854+0.j  0.39059949+0.j  1.11548733+0.j\n",
      "  5.82508721+0.j]\n",
      "It can be seen that they are approximately the same.\n"
     ]
    }
   ],
   "source": [
    "def QRfindeig(A, N, tol):\n",
    "    m, n = A.shape\n",
    "    \n",
    "    S, temp = la.hessenberg(A, calc_q = True)\n",
    "    \n",
    "   \n",
    "    for k in range(N):\n",
    "        Q, R = la.qr(S)\n",
    "        S = np.matmul(R, Q)\n",
    "    eigs = []\n",
    "    \n",
    "    i = 0\n",
    "    while i < n:\n",
    "        #if Si is 1*!\n",
    "        if (i == (n-1)) or (abs(S[i+1,i])<tol):\n",
    "            eigs.append(S[i,i])\n",
    "        else:\n",
    "            #Si is 2*2\n",
    "            a = S[i,i]\n",
    "            b = S[i,i+1]\n",
    "            c = S[i+1, i]\n",
    "            d = S[i+1, i+1]\n",
    "            lamba_1 = 0.5 * (a + d + cmath.sqrt((a+d)**2 - 4*(a*d-b*c)))\n",
    "            lamba_2 = 0.5 * (a + d - cmath.sqrt((a+d)**2 - 4*(a*d-b*c)))\n",
    "            eigs.append(lambda_1)\n",
    "            eigs.append(lambda_2)\n",
    "            i += 1\n",
    "        i += 1\n",
    "    return eigs\n",
    "            \n",
    "#Construct a random symmetric matrix\n",
    "A = np.random.random((5,5))\n",
    "A = A + A.T\n",
    "my_evals = QRfindeig(A, 1000, 1e-8)\n",
    "my_evals.sort()\n",
    "print(\"Calculation: \", my_evals)\n",
    "evals, evecs = la.eig(A)\n",
    "evals.sort()\n",
    "print(\"True values: \", evals)\n",
    "print(\"It can be seen that they are approximately the same.\")"
   ]
  },
  {
   "cell_type": "markdown",
   "metadata": {},
   "source": [
    "Note that in the above code, we directly apply quadratic formula to calculate the eigenvalues of a 2*2 matrix.\n",
    "We have the following:\n",
    "$$(a-\\lambda)(d-\\lambda) - bc = 0 $$\n",
    "$$\\lambda^2 - (a+d)\\lambda +(ad-bc) = 0$$\n",
    "$$\\lambda_1 = \\frac{1}{2}[(a+d) + \\sqrt{(a+d)^2 - 4(ad-bc)}] \\text{ and } \\lambda_2 = \\frac{1}{2}[(a+d) - \\sqrt{(a+d)^2 - 4(ad-bc)]}$$"
   ]
  },
  {
   "cell_type": "code",
   "execution_count": null,
   "metadata": {},
   "outputs": [],
   "source": []
  }
 ],
 "metadata": {
  "kernelspec": {
   "display_name": "Python 3",
   "language": "python",
   "name": "python3"
  },
  "language_info": {
   "codemirror_mode": {
    "name": "ipython",
    "version": 3
   },
   "file_extension": ".py",
   "mimetype": "text/x-python",
   "name": "python",
   "nbconvert_exporter": "python",
   "pygments_lexer": "ipython3",
   "version": "3.6.4"
  }
 },
 "nbformat": 4,
 "nbformat_minor": 2
}
