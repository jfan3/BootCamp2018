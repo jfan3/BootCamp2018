{
 "cells": [
  {
   "cell_type": "markdown",
   "metadata": {},
   "source": [
    "### Fiona"
   ]
  },
  {
   "cell_type": "code",
   "execution_count": 17,
   "metadata": {},
   "outputs": [],
   "source": [
    "import numpy as np\n",
    "from scipy import linalg as la\n",
    "from numpy.linalg import matrix_power\n",
    "from scipy.sparse import dok_matrix\n",
    "import pandas as pd"
   ]
  },
  {
   "cell_type": "markdown",
   "metadata": {},
   "source": [
    "Problem 1"
   ]
  },
  {
   "cell_type": "code",
   "execution_count": 36,
   "metadata": {},
   "outputs": [],
   "source": [
    "def p1(filename):\n",
    "    nodes=[]\n",
    "    with open(filename, 'r') as myfile:\n",
    "        for line in myfile:\n",
    "            try:\n",
    "                line = list(map(int, line.strip().split()))\n",
    "                nodes.append(line)\n",
    "            except:\n",
    "                pass\n",
    "    N = np.amax(nodes) + 1\n",
    "    A = np.zeros((N,N))\n",
    "    for i in range (0,N):\n",
    "        for j in range (0,N):\n",
    "            if [i,j] in nodes:\n",
    "                A[i,j]=1\n",
    "    return A\n",
    "        "
   ]
  },
  {
   "cell_type": "code",
   "execution_count": 45,
   "metadata": {
    "scrolled": true
   },
   "outputs": [
    {
     "data": {
      "text/plain": [
       "array([[0., 0., 0., 0., 0., 0., 0., 1.],\n",
       "       [1., 0., 0., 0., 0., 0., 0., 0.],\n",
       "       [0., 0., 0., 0., 0., 0., 0., 0.],\n",
       "       [1., 0., 1., 0., 0., 0., 1., 0.],\n",
       "       [1., 0., 0., 0., 0., 1., 1., 0.],\n",
       "       [1., 0., 0., 0., 0., 0., 1., 0.],\n",
       "       [1., 0., 0., 0., 0., 0., 0., 0.],\n",
       "       [1., 0., 0., 0., 0., 0., 0., 0.]])"
      ]
     },
     "execution_count": 45,
     "metadata": {},
     "output_type": "execute_result"
    }
   ],
   "source": [
    "p1('matrix.txt')"
   ]
  },
  {
   "cell_type": "markdown",
   "metadata": {},
   "source": [
    "Problem 2"
   ]
  },
  {
   "cell_type": "code",
   "execution_count": 43,
   "metadata": {},
   "outputs": [],
   "source": [
    "def p2(A):\n",
    "    m,n = A.shape\n",
    "    A[A.sum(axis=1) == 0, :] = np.ones(n)\n",
    "    D=A.sum(axis=1)\n",
    "    K = A.T / D\n",
    "    return(K)\n",
    "    \n",
    "    "
   ]
  },
  {
   "cell_type": "code",
   "execution_count": 44,
   "metadata": {
    "scrolled": true
   },
   "outputs": [
    {
     "data": {
      "text/plain": [
       "array([[0.        , 1.        , 0.125     , 0.33333333, 0.33333333,\n",
       "        0.5       , 1.        , 1.        ],\n",
       "       [0.        , 0.        , 0.125     , 0.        , 0.        ,\n",
       "        0.        , 0.        , 0.        ],\n",
       "       [0.        , 0.        , 0.125     , 0.33333333, 0.        ,\n",
       "        0.        , 0.        , 0.        ],\n",
       "       [0.        , 0.        , 0.125     , 0.        , 0.        ,\n",
       "        0.        , 0.        , 0.        ],\n",
       "       [0.        , 0.        , 0.125     , 0.        , 0.        ,\n",
       "        0.        , 0.        , 0.        ],\n",
       "       [0.        , 0.        , 0.125     , 0.        , 0.33333333,\n",
       "        0.        , 0.        , 0.        ],\n",
       "       [0.        , 0.        , 0.125     , 0.33333333, 0.33333333,\n",
       "        0.5       , 0.        , 0.        ],\n",
       "       [1.        , 0.        , 0.125     , 0.        , 0.        ,\n",
       "        0.        , 0.        , 0.        ]])"
      ]
     },
     "execution_count": 44,
     "metadata": {},
     "output_type": "execute_result"
    }
   ],
   "source": [
    "p2(p1('matrix.txt'))"
   ]
  },
  {
   "cell_type": "markdown",
   "metadata": {},
   "source": [
    "Problem 3"
   ]
  },
  {
   "cell_type": "code",
   "execution_count": 49,
   "metadata": {},
   "outputs": [],
   "source": [
    "def p3(A,N=None,d=0.85,tol=1e-5):\n",
    "    if N!=None:\n",
    "        A=A[:N,:N]\n",
    "    n=len(A)\n",
    "    p_0 = np.random.rand(n)\n",
    "    p_0= p_0/ np.sum(p_0)\n",
    "    pdist = 100\n",
    "    count=0\n",
    "    while (pdist > tol) & (count < 1000):\n",
    "        p_t = d * A @ p_0 + ((1 - d)/ n)\n",
    "        pdist = la.norm(p_t - p_0)\n",
    "        p_0 = p_t\n",
    "        count += 1\n",
    "    return(p_0)\n",
    "\n",
    "    "
   ]
  },
  {
   "cell_type": "code",
   "execution_count": 51,
   "metadata": {
    "scrolled": true
   },
   "outputs": [
    {
     "data": {
      "text/plain": [
       "array([0.43869573, 0.02171029, 0.02786154, 0.02171029, 0.02171029,\n",
       "       0.02786154, 0.04585394, 0.3945964 ])"
      ]
     },
     "execution_count": 51,
     "metadata": {},
     "output_type": "execute_result"
    }
   ],
   "source": [
    "p3(p2(p1('matrix.txt')))"
   ]
  },
  {
   "cell_type": "markdown",
   "metadata": {},
   "source": [
    "Problem 4"
   ]
  },
  {
   "cell_type": "code",
   "execution_count": 54,
   "metadata": {},
   "outputs": [],
   "source": [
    "def p4(A,N=None,d=0.85):\n",
    "    n = len(A)\n",
    "    K = p2(A)\n",
    "    E = np.ones((n, n))\n",
    "    B = (d * K + ((1 - d) / n) * E)\n",
    "    eigval, eigvec = la.eig(B)\n",
    "    p_t = eigvec[:, 0]/ np.sum(eigvec[:,0])\n",
    "    return p_t\n"
   ]
  },
  {
   "cell_type": "code",
   "execution_count": 55,
   "metadata": {
    "scrolled": true
   },
   "outputs": [
    {
     "data": {
      "text/plain": [
       "array([0.03870928, 0.02641669, 0.48031139, 0.32401996, 0.04643401,\n",
       "       0.03127529, 0.02641669, 0.02641669])"
      ]
     },
     "execution_count": 55,
     "metadata": {},
     "output_type": "execute_result"
    }
   ],
   "source": [
    "p4(p2(p1('matrix.txt')))"
   ]
  },
  {
   "cell_type": "markdown",
   "metadata": {},
   "source": [
    "Problem 5"
   ]
  },
  {
   "cell_type": "code",
   "execution_count": 85,
   "metadata": {},
   "outputs": [
    {
     "name": "stdout",
     "output_type": "stream",
     "text": [
      "['Duke' 'Butler' 'Louisville' 'Illinois' 'Indiana']\n"
     ]
    }
   ],
   "source": [
    "with open('ncaa2013.csv','r') as ncaafile:\n",
    "    ncaafile.readline()\n",
    "    winner=[]\n",
    "    loser=[]\n",
    "    for line in ncaafile:\n",
    "        teams=line.strip().split(',')\n",
    "        winner.append(teams[0])\n",
    "        loser.append(teams[1])\n",
    "names = np.unique(np.concatenate((winner, loser)))\n",
    "n=len(names)\n",
    "adj=np.zeros((n,n))\n",
    "for i in range (0,len(winner)):\n",
    "    name1, name2 = winner[i], loser[i]\n",
    "    name1loc = np.where(name1 == names)\n",
    "    name2loc = np.where(name2 == names)\n",
    "    adj[name2loc, name1loc] = 1\n",
    "A=p2(adj)\n",
    "B=p3(A,d=0.7)\n",
    "rank= np.argsort(B)\n",
    "name_list= names[rank]\n",
    "print(name_list[-5:][::-1])\n",
    "        "
   ]
  },
  {
   "cell_type": "code",
   "execution_count": null,
   "metadata": {},
   "outputs": [],
   "source": []
  }
 ],
 "metadata": {
  "kernelspec": {
   "display_name": "Python 3",
   "language": "python",
   "name": "python3"
  },
  "language_info": {
   "codemirror_mode": {
    "name": "ipython",
    "version": 3
   },
   "file_extension": ".py",
   "mimetype": "text/x-python",
   "name": "python",
   "nbconvert_exporter": "python",
   "pygments_lexer": "ipython3",
   "version": "3.6.4"
  }
 },
 "nbformat": 4,
 "nbformat_minor": 2
}
