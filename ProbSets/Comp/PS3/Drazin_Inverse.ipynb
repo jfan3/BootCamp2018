{
 "cells": [
  {
   "cell_type": "markdown",
   "metadata": {},
   "source": [
    "### Fiona Fan\n",
    "Problem 1"
   ]
  },
  {
   "cell_type": "code",
   "execution_count": 3,
   "metadata": {},
   "outputs": [],
   "source": [
    "import numpy as np\n",
    "from scipy import linalg as la\n",
    "from numpy.linalg import matrix_power"
   ]
  },
  {
   "cell_type": "code",
   "execution_count": 4,
   "metadata": {},
   "outputs": [],
   "source": [
    "def f(A,k,A_D):\n",
    "    if np.allclose(np.dot(A,A_D),np.dot(A_D, A))==True:\n",
    "        if np.allclose(np.dot(matrix_power(A,k+1),A_D), matrix_power(A,k))==True:\n",
    "            if np.allclose(np.dot(A_D,A,A_D),A_D)==True:\n",
    "                return True\n",
    "            else:return False\n",
    "        else: return False\n",
    "    else: return False\n",
    "    "
   ]
  },
  {
   "cell_type": "code",
   "execution_count": 5,
   "metadata": {},
   "outputs": [
    {
     "data": {
      "text/plain": [
       "True"
      ]
     },
     "execution_count": 5,
     "metadata": {},
     "output_type": "execute_result"
    }
   ],
   "source": [
    "A=np.array(([1,3,0,0],[0,1,3,0],[0,0,1,3],[0,0,0,0]))\n",
    "A.reshape(4,4)\n",
    "A_D=np.array(([1,-3,9,81],[0,1,-3,-18],[0,0,1,3],[0,0,0,0]))\n",
    "A_D.reshape(4,4)\n",
    "f(A,1,A_D)"
   ]
  },
  {
   "cell_type": "code",
   "execution_count": 6,
   "metadata": {},
   "outputs": [
    {
     "data": {
      "text/plain": [
       "True"
      ]
     },
     "execution_count": 6,
     "metadata": {},
     "output_type": "execute_result"
    }
   ],
   "source": [
    "B=np.array(([1,1,3],[5,2,6],[-2,-1,-3]))\n",
    "B.reshape(3,3)\n",
    "B_D=np.array(([0,0,0],[0,0,0],[0,0,0]))\n",
    "B_D.reshape(3,3)\n",
    "f(B,3,B_D)"
   ]
  },
  {
   "cell_type": "markdown",
   "metadata": {},
   "source": [
    "Problem 2"
   ]
  },
  {
   "cell_type": "code",
   "execution_count": 7,
   "metadata": {},
   "outputs": [],
   "source": [
    "from numpy.linalg import inv\n",
    "def p2(A,tol):\n",
    "    n=len(A)\n",
    "    f = lambda x: abs(x) > tol\n",
    "    Q1,S,k1 = la.schur(A, sort=f)\n",
    "    f = lambda x: abs(x) <= tol\n",
    "    Q2,T,k2 = la.schur(A, sort=f)\n",
    "    U=np.concatenate((S[:,:k1], T[:,:n-k1]), axis=1)\n",
    "    U_1=inv(U)\n",
    "    V=U_1@A@U\n",
    "    Z=np.zeros((n,n))\n",
    "    if k1!=0:\n",
    "        M_1=inv(V[:k1,:k1])\n",
    "        Z[:k1,:k1]=M_1\n",
    "    return U@Z@U_1\n",
    "    "
   ]
  },
  {
   "cell_type": "code",
   "execution_count": 8,
   "metadata": {},
   "outputs": [
    {
     "data": {
      "text/plain": [
       "array([[  1.,  -3.,   9.,  81.],\n",
       "       [  0.,   1.,  -3., -18.],\n",
       "       [  0.,   0.,   1.,   3.],\n",
       "       [  0.,   0.,   0.,   0.]])"
      ]
     },
     "execution_count": 8,
     "metadata": {},
     "output_type": "execute_result"
    }
   ],
   "source": [
    "p2(A,0.01)"
   ]
  },
  {
   "cell_type": "code",
   "execution_count": 9,
   "metadata": {},
   "outputs": [
    {
     "data": {
      "text/plain": [
       "True"
      ]
     },
     "execution_count": 9,
     "metadata": {},
     "output_type": "execute_result"
    }
   ],
   "source": [
    "f(A,1,p2(A,0.01))"
   ]
  },
  {
   "cell_type": "markdown",
   "metadata": {},
   "source": [
    "Problem 3"
   ]
  },
  {
   "cell_type": "code",
   "execution_count": 10,
   "metadata": {},
   "outputs": [],
   "source": [
    "def p3(A):\n",
    "    n =len(A)\n",
    "    degree = np.sum(A, axis = 0)\n",
    "    D = np.diag(degree)\n",
    "    L = D - A\n",
    "    I = np.identity(n)\n",
    "    R = np.zeros((n,n))\n",
    "    for j in range(n):\n",
    "        L1 = L.copy()\n",
    "        L1[:, j] = I[:, j]\n",
    "        L1_D = p2(L1, .0000001)\n",
    "        R[:, j] = L1_D.diagonal()\n",
    "        R[j, j] = 0\n",
    "    return R\n"
   ]
  },
  {
   "cell_type": "code",
   "execution_count": 11,
   "metadata": {
    "scrolled": false
   },
   "outputs": [
    {
     "data": {
      "text/plain": [
       "array([[0., 1., 2., 3.],\n",
       "       [1., 0., 1., 2.],\n",
       "       [2., 1., 0., 1.],\n",
       "       [3., 2., 1., 0.]])"
      ]
     },
     "execution_count": 11,
     "metadata": {},
     "output_type": "execute_result"
    }
   ],
   "source": [
    "A=np.array([[0, 1, 0, 0], [1,  0,  1,  0], [0,  1,  0,  1], [0,  0,  1,  0]])\n",
    "\n",
    "p3(A)"
   ]
  },
  {
   "cell_type": "markdown",
   "metadata": {},
   "source": [
    "Problem 4&5"
   ]
  },
  {
   "cell_type": "code",
   "execution_count": 12,
   "metadata": {},
   "outputs": [],
   "source": [
    "import pandas as pd\n",
    "class LinkPredictor:\n",
    "    def __init__(self, name):\n",
    "        data= pd.read_csv(name, header=None)\n",
    "        self.list = np.unique(np.concatenate((data[0], data[1])))\n",
    "        n = len(self.list)\n",
    "        adj = np.zeros((n, n))\n",
    "        for i in data.index:\n",
    "            friend1, friend2 = data[0][i], data[1][i]\n",
    "            friend1loc = np.where(friend1 == self.list)\n",
    "            friend2loc = np.where(friend2 == self.list)\n",
    "            adj[friend1loc, friend2loc] = 1\n",
    "            adj[friend2loc, friend1loc] = 1\n",
    "        self.adjacency_matrix = adj\n",
    "        self.resistance_matrix = p3(self.adjacency_matrix)\n",
    "    def predict_link(self,node):\n",
    "        #zero out all entries that represent connected nodes\n",
    "        new_matrix=self.resistance_matrix*(1-self.adjacency_matrix)\n",
    "        if node=='None':\n",
    "            minval = np.min(new_matrix[np.nonzero(new_matrix)])\n",
    "            loc= np.where(new_matrix==minval)\n",
    "            return self.list[loc[0]], self.list[loc[1]]\n",
    "        elif not node in self.list:\n",
    "            raise ValueError(\"invalid input\")\n",
    "        else :\n",
    "            loc = np.where(self.list == node)\n",
    "            col = new_matrix[:,loc]\n",
    "            minval = np.min(col[col > 0])\n",
    "            location = np.where(col==minval)\n",
    "            return self.list[location[0]]\n",
    "    def add_link(self,node1,node2):\n",
    "        if (not node1 in self.list) or (not node2 in self.list):\n",
    "            raise ValueError(\"invalid inputs\")\n",
    "        else:\n",
    "            loc1 = np.where(self.list==node1)\n",
    "            loc2 = np.where(self.list==node2)\n",
    "            self.adjacency_matrix[loc1, loc2] = 1\n",
    "            self.adjacency_matrix[loc2, loc1] = 1"
   ]
  },
  {
   "cell_type": "code",
   "execution_count": 13,
   "metadata": {},
   "outputs": [
    {
     "data": {
      "text/plain": [
       "array(['Carol'], dtype=object)"
      ]
     },
     "execution_count": 13,
     "metadata": {},
     "output_type": "execute_result"
    }
   ],
   "source": [
    "a=LinkPredictor(\"social_network.csv\")\n",
    "a.predict_link('Melanie')"
   ]
  },
  {
   "cell_type": "code",
   "execution_count": 14,
   "metadata": {},
   "outputs": [
    {
     "data": {
      "text/plain": [
       "array(['Sonia'], dtype=object)"
      ]
     },
     "execution_count": 14,
     "metadata": {},
     "output_type": "execute_result"
    }
   ],
   "source": [
    "a.predict_link('Alan')"
   ]
  },
  {
   "cell_type": "code",
   "execution_count": 15,
   "metadata": {},
   "outputs": [
    {
     "data": {
      "text/plain": [
       "(array(['Emily', 'Oliver'], dtype=object),\n",
       " array(['Oliver', 'Emily'], dtype=object))"
      ]
     },
     "execution_count": 15,
     "metadata": {},
     "output_type": "execute_result"
    }
   ],
   "source": [
    "a.predict_link('None')"
   ]
  },
  {
   "cell_type": "code",
   "execution_count": 16,
   "metadata": {},
   "outputs": [],
   "source": [
    "a.add_link('Emily','Alan')"
   ]
  },
  {
   "cell_type": "code",
   "execution_count": null,
   "metadata": {},
   "outputs": [],
   "source": []
  }
 ],
 "metadata": {
  "kernelspec": {
   "display_name": "Python 3",
   "language": "python",
   "name": "python3"
  },
  "language_info": {
   "codemirror_mode": {
    "name": "ipython",
    "version": 3
   },
   "file_extension": ".py",
   "mimetype": "text/x-python",
   "name": "python",
   "nbconvert_exporter": "python",
   "pygments_lexer": "ipython3",
   "version": "3.6.4"
  }
 },
 "nbformat": 4,
 "nbformat_minor": 2
}
