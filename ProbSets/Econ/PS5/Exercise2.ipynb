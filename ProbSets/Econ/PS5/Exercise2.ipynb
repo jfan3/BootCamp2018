{
 "cells": [
  {
   "cell_type": "code",
   "execution_count": 7,
   "metadata": {},
   "outputs": [],
   "source": [
    "# Import packages\n",
    "import numpy as np\n",
    "import pandas as pd\n",
    "import scipy.stats as sts\n",
    "import os\n",
    "import matplotlib.pyplot as plt\n",
    "import scipy.optimize as opt\n",
    "import warnings\n",
    "warnings.filterwarnings('ignore')\n",
    "from scipy import special\n",
    "from scipy.stats import norm"
   ]
  },
  {
   "cell_type": "code",
   "execution_count": 8,
   "metadata": {},
   "outputs": [],
   "source": [
    "alpha_init = 0.4\n",
    "rho_init = 0.7\n",
    "mu_init = 8\n",
    "sigma_init = 0.1\n",
    "params_init = (alpha_init, rho_init, mu_init, sigma_init)"
   ]
  },
  {
   "cell_type": "code",
   "execution_count": 9,
   "metadata": {},
   "outputs": [],
   "source": [
    "data = np.loadtxt('MacroSeries.txt', delimiter=\",\")\n",
    "beta = 0.99\n",
    "c = data[:, 0]\n",
    "k = data[:, 1]\n",
    "w = data[:, 2]\n",
    "r = data[:, 3]\n"
   ]
  },
  {
   "cell_type": "markdown",
   "metadata": {},
   "source": [
    "# Part(a)"
   ]
  },
  {
   "cell_type": "code",
   "execution_count": 10,
   "metadata": {},
   "outputs": [],
   "source": [
    "#equation 3\n",
    "def get_z(w, k, alpha):\n",
    "\n",
    "    z = np.log(w) - np.log(1 - alpha) - alpha * np.log(k)\n",
    "    \n",
    "    return z\n",
    "def logpdf(z, rho, mu, sigma):\n",
    "    z[0] = mu\n",
    "    mean = rho * z[:-1] + (1 - rho) * mu\n",
    "    logpdf_vals = norm.logpdf(z, np.hstack([mu, mean]), sigma)\n",
    "    \n",
    "    return logpdf_vals"
   ]
  },
  {
   "cell_type": "code",
   "execution_count": 11,
   "metadata": {},
   "outputs": [],
   "source": [
    "def crit1(params, *args):\n",
    "   \n",
    "    alpha, rho, mu, sigma = params\n",
    "    w, k  = args\n",
    "    neglogpdf_vals = -(logpdf(get_z(w, k, alpha), rho, mu, sigma).sum())\n",
    "    \n",
    "    return neglogpdf_vals"
   ]
  },
  {
   "cell_type": "code",
   "execution_count": 12,
   "metadata": {},
   "outputs": [
    {
     "name": "stdout",
     "output_type": "stream",
     "text": [
      "      fun: -95.43447335111057\n",
      " hess_inv: <4x4 LbfgsInvHessProduct with dtype=float64>\n",
      "      jac: array([-18.5699875 ,   0.79146218,  -1.44542156,  -6.6305418 ])\n",
      "  message: b'CONVERGENCE: REL_REDUCTION_OF_F_<=_FACTR*EPSMCH'\n",
      "     nfev: 390\n",
      "      nit: 40\n",
      "   status: 0\n",
      "  success: True\n",
      "        x: array([0.80491239, 0.57960268, 5.01565017, 0.09288782])\n"
     ]
    }
   ],
   "source": [
    "args1 = (w, k)\n",
    "bnds = ((1e-6, 1-1e-6), (-1+1e-6, 1-1e-6),(1e-6, None), (1e-6, None))\n",
    "\n",
    "results1 = opt.minimize(crit1, params_init, args=(args1), method ='L-BFGS-B', bounds=bnds)\n",
    "alpha1, rho1, mu1, sigma1 = results1.x\n",
    "print(results1)"
   ]
  },
  {
   "cell_type": "code",
   "execution_count": 13,
   "metadata": {},
   "outputs": [
    {
     "data": {
      "text/plain": [
       "array([[ 6.18714190e+01, -1.10559438e+01, -7.71659091e+02,\n",
       "        -3.40680013e-01],\n",
       "       [-1.10559438e+01,  1.32098309e+01,  1.40016714e+02,\n",
       "         3.23312059e+00],\n",
       "       [-7.71659091e+02,  1.40016714e+02,  9.62452003e+03,\n",
       "         4.84981927e+00],\n",
       "       [-3.40680013e-01,  3.23312059e+00,  4.84981927e+00,\n",
       "         9.01621055e-01]])"
      ]
     },
     "execution_count": 13,
     "metadata": {},
     "output_type": "execute_result"
    }
   ],
   "source": [
    "results1.hess_inv.todense()"
   ]
  },
  {
   "cell_type": "markdown",
   "metadata": {},
   "source": [
    "# Part(b)"
   ]
  },
  {
   "cell_type": "code",
   "execution_count": 14,
   "metadata": {},
   "outputs": [],
   "source": [
    "def get_z(r, k, alpha):\n",
    "    \n",
    "    z = np.log(r) - np.log(alpha) - (alpha - 1) * np.log(k)\n",
    "    \n",
    "    return z"
   ]
  },
  {
   "cell_type": "code",
   "execution_count": 15,
   "metadata": {},
   "outputs": [],
   "source": [
    "def crit2(params, *args):\n",
    "   \n",
    "    alpha, rho, mu, sigma = params\n",
    "    r, k  = args\n",
    "    neglogpdf_vals = -(logpdf(get_z(r, k, alpha), rho, mu, sigma).sum())\n",
    "    \n",
    "    return neglogpdf_vals"
   ]
  },
  {
   "cell_type": "code",
   "execution_count": 16,
   "metadata": {},
   "outputs": [
    {
     "name": "stdout",
     "output_type": "stream",
     "text": [
      "      fun: -95.55298513757336\n",
      " hess_inv: <4x4 LbfgsInvHessProduct with dtype=float64>\n",
      "      jac: array([-1.46087586e-03, -2.41584530e-05, -9.37916411e-05, -8.07176548e-04])\n",
      "  message: b'CONVERGENCE: REL_REDUCTION_OF_F_<=_FACTR*EPSMCH'\n",
      "     nfev: 270\n",
      "      nit: 37\n",
      "   status: 0\n",
      "  success: True\n",
      "        x: array([0.85063442, 0.51753071, 2.50436508, 0.09306391])\n"
     ]
    }
   ],
   "source": [
    "args2 = (r, k)\n",
    "results2 = opt.minimize(crit2, params_init, args=(args2), method ='L-BFGS-B', bounds=bnds)\n",
    "alpha2, rho2, mu2, sigma2 = results2.x\n",
    "print(results2)\n"
   ]
  },
  {
   "cell_type": "code",
   "execution_count": 17,
   "metadata": {},
   "outputs": [
    {
     "data": {
      "text/plain": [
       "array([[ 6.18714190e+01, -1.10559438e+01, -7.71659091e+02,\n",
       "        -3.40680013e-01],\n",
       "       [-1.10559438e+01,  1.32098309e+01,  1.40016714e+02,\n",
       "         3.23312059e+00],\n",
       "       [-7.71659091e+02,  1.40016714e+02,  9.62452003e+03,\n",
       "         4.84981927e+00],\n",
       "       [-3.40680013e-01,  3.23312059e+00,  4.84981927e+00,\n",
       "         9.01621055e-01]])"
      ]
     },
     "execution_count": 17,
     "metadata": {},
     "output_type": "execute_result"
    }
   ],
   "source": [
    "results1.hess_inv.todense()"
   ]
  },
  {
   "cell_type": "markdown",
   "metadata": {},
   "source": [
    "# Part(c)"
   ]
  },
  {
   "cell_type": "code",
   "execution_count": 18,
   "metadata": {},
   "outputs": [
    {
     "name": "stdout",
     "output_type": "stream",
     "text": [
      "Probability : 1.0\n"
     ]
    }
   ],
   "source": [
    "z_star = get_z(1, 7500000, alpha2)\n",
    "mean = rho2 * 10 + (1 - rho2) * mu2\n",
    "print('Probability : ' + str(1-norm.cdf(z_star, mean, sigma2)))"
   ]
  }
 ],
 "metadata": {
  "anaconda-cloud": {},
  "kernelspec": {
   "display_name": "Python 3",
   "language": "python",
   "name": "python3"
  },
  "language_info": {
   "codemirror_mode": {
    "name": "ipython",
    "version": 3
   },
   "file_extension": ".py",
   "mimetype": "text/x-python",
   "name": "python",
   "nbconvert_exporter": "python",
   "pygments_lexer": "ipython3",
   "version": "3.6.4"
  }
 },
 "nbformat": 4,
 "nbformat_minor": 1
}
