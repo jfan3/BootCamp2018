{
 "cells": [
  {
   "cell_type": "code",
   "execution_count": 1,
   "metadata": {},
   "outputs": [],
   "source": [
    "#import packages \n",
    "import numpy as np\n",
    "import pandas as pd\n",
    "import scipy.stats as sts\n",
    "import os\n",
    "import matplotlib.pyplot as plt\n",
    "import scipy.optimize as opt\n",
    "import warnings\n",
    "warnings.filterwarnings('ignore')\n",
    "from scipy import special\n",
    "from scipy.integrate import quad\n",
    "from scipy.linalg import pinv"
   ]
  },
  {
   "cell_type": "code",
   "execution_count": 3,
   "metadata": {
    "scrolled": true
   },
   "outputs": [],
   "source": [
    "data = np.loadtxt('usincmoms.txt')\n"
   ]
  },
  {
   "cell_type": "code",
   "execution_count": 4,
   "metadata": {},
   "outputs": [
    {
     "data": {
      "image/png": "[encoded data removed]",
      "text/plain": [
       "<matplotlib.figure.Figure at 0x177eb581b00>"
      ]
     },
     "metadata": {},
     "output_type": "display_data"
    }
   ],
   "source": [
    "width = np.hstack([np.ones(len(data[:,1]) - 2)*5, 50, 100])\n",
    "left=data[:,1]/1000\n",
    "plt.bar(left, np.hstack([data[:, 0][:-2], data[:, 0][-2]/10, data[:, 0][-1]/20]), width, edgecolor='k')\n",
    "b=np.hstack([data[:, 0][:-2], data[:, 0][-2]/10, data[:, 0][-1]/20])\n",
    "plt.xlabel('Income (in thousands)')\n",
    "plt.ylabel('Frequency')\n",
    "plt.show()\n"
   ]
  },
  {
   "cell_type": "markdown",
   "metadata": {},
   "source": [
    "# Part(b)"
   ]
  },
  {
   "cell_type": "code",
   "execution_count": 5,
   "metadata": {},
   "outputs": [],
   "source": [
    "#define weight matrix \n",
    "xvals=data[:,1]\n",
    "data_moments=data[:,0]\n",
    "W = np.diag(data_moments)"
   ]
  },
  {
   "cell_type": "code",
   "execution_count": 6,
   "metadata": {},
   "outputs": [],
   "source": [
    "def model_moments_ln(xvals, mu, sigma):\n",
    "    \n",
    "    pdf_vals = sts.lognorm.pdf(xvals, s = sigma, scale = np.exp(mu))\n",
    "    \n",
    "    return pdf_vals\n",
    "\n",
    "\n",
    "def err_vec(xvals, data_moments , mu, sigma, simple=False):\n",
    "    g = lambda x: model_moments_ln(x, mu, sigma)\n",
    "    model_moments = np.zeros(len(xvals))\n",
    "    for i in range(len(xvals)):\n",
    "        model_moments[i] = quad(g, xvals[i]-2500, xvals[i] + 2500)[0] \n",
    "    if simple:\n",
    "        err_vec = model_moments - data_moments\n",
    "    else:\n",
    "        err_vec = (model_moments - data_moments) / data_moments\n",
    "    \n",
    "    return err_vec\n",
    "\n",
    "def crit(params, *args):\n",
    "    \n",
    "    mu, sigma = params\n",
    "    xvals, data_moments, W = args\n",
    "    err = err_vec(xvals, data_moments, mu, sigma)\n",
    "    crit_val = np.dot(np.dot(err.T, W), err) \n",
    "    \n",
    "    return crit_val"
   ]
  },
  {
   "cell_type": "code",
   "execution_count": 7,
   "metadata": {
    "scrolled": true
   },
   "outputs": [
    {
     "name": "stdout",
     "output_type": "stream",
     "text": [
      "      fun: 0.06299211591348867\n",
      " hess_inv: <2x2 LbfgsInvHessProduct with dtype=float64>\n",
      "      jac: array([-4.89747132e-06,  1.10744747e-06])\n",
      "  message: b'CONVERGENCE: NORM_OF_PROJECTED_GRADIENT_<=_PGTOL'\n",
      "     nfev: 21\n",
      "      nit: 6\n",
      "   status: 0\n",
      "  success: True\n",
      "        x: array([10.86071336,  1.0370576 ])\n"
     ]
    }
   ],
   "source": [
    "mean = (xvals * data_moments).sum()\n",
    "sd = ((xvals - mean) ** 2 * data_moments).sum()\n",
    "\n",
    "mu_init = np.log(mean/(np.sqrt(1 + sd/mean ** 2)))\n",
    "sigma_init = np.sqrt(np.log(1 + sd/mean ** 2))\n",
    "\n",
    "bnds = ((None, None), (1e-5, None))\n",
    "params_init = (mu_init, sigma_init)\n",
    "\n",
    "ln_args = (xvals, data_moments, W)\n",
    "results = opt.minimize(crit, params_init, args=(ln_args), bounds = bnds)\n",
    "print(results)\n",
    "mu_ln, sigma_ln = results.x"
   ]
  },
  {
   "cell_type": "code",
   "execution_count": 8,
   "metadata": {},
   "outputs": [
    {
     "name": "stdout",
     "output_type": "stream",
     "text": [
      "Error vector= [-6.61339680e-01  6.77089699e-02  6.25577772e-03  1.08637342e-01\n",
      "  4.99278456e-02  6.23867238e-02 -3.08256401e-02 -3.72224311e-02\n",
      " -7.20981876e-02 -1.20057061e-02 -1.41610600e-01 -5.08736554e-02\n",
      " -1.71732563e-01 -1.27817905e-01 -1.52944151e-01 -1.90725330e-01\n",
      " -1.56885061e-01 -8.43137898e-02 -1.67026810e-01 -1.15720589e-01\n",
      " -2.73108332e-01 -4.12853489e-02 -8.76641732e-02 -7.09827718e-02\n",
      " -1.21011770e-01  7.06090209e-04 -3.18792166e-02  1.90962510e-01\n",
      " -9.83385986e-03  6.87579996e-02 -2.33848391e-01  1.31262265e-01\n",
      "  1.26743866e-01  2.09080527e-01  1.23762595e-01  2.31092509e-01\n",
      "  3.36080731e-01  5.96287038e-01  4.38966845e-01  6.55287276e-01\n",
      " -8.33409654e-01 -9.33507367e-01]\n"
     ]
    }
   ],
   "source": [
    "error=err_vec(xvals, data_moments , mu_ln, sigma_ln, simple=False)\n",
    "print('Error vector=', error)"
   ]
  },
  {
   "cell_type": "code",
   "execution_count": 9,
   "metadata": {
    "scrolled": true
   },
   "outputs": [
    {
     "data": {
      "image/png": "[encoded data removed]",
      "text/plain": [
       "<matplotlib.figure.Figure at 0x177ec987358>"
      ]
     },
     "metadata": {},
     "output_type": "display_data"
    }
   ],
   "source": [
    "# Plot the histogram of the data\n",
    "width = np.hstack([np.ones(len(data[:,1]) - 2)*5, 50, 100])\n",
    "left=data[:,1]/1000\n",
    "plt.bar(left, np.hstack([data[:, 0][:-2], data[:, 0][-2]/10, data[:, 0][-1]/20]), width, edgecolor='k')\n",
    "b=np.hstack([data[:, 0][:-2], data[:, 0][-2]/10, data[:, 0][-1]/20])\n",
    "plt.xlabel('Income (in thousands)')\n",
    "plt.ylabel('Frequency')\n",
    "\n",
    "# Plot the estimated GMM PDF\n",
    "x=left*1000\n",
    "g = lambda x: model_moments_ln(x, mu_ln, sigma_ln)\n",
    "y = np.zeros(len(xvals))\n",
    "for i in range(len(xvals)):\n",
    "        y[i] = quad(g, x[i]-2500, x[i] + 2500)[0] \n",
    "x=x/1000\n",
    "plt.plot(x, y, 'm')\n",
    "plt.show()"
   ]
  },
  {
   "cell_type": "markdown",
   "metadata": {},
   "source": [
    "# Part(c)"
   ]
  },
  {
   "cell_type": "code",
   "execution_count": 10,
   "metadata": {},
   "outputs": [],
   "source": [
    "alpha_init  = 3\n",
    "beta_init = 20000"
   ]
  },
  {
   "cell_type": "code",
   "execution_count": 12,
   "metadata": {},
   "outputs": [],
   "source": [
    "def model_moments_ga(xvals, alpha, beta):\n",
    "    \n",
    "    pdf_vals = 1/((beta ** alpha) * special.gamma(alpha)) * (xvals ** (alpha - 1)) * np.exp(-xvals/beta)\n",
    "    \n",
    "    return pdf_vals\n",
    "\n",
    "\n",
    "def err_vec_ga(xvals,  data_moments, alpha, beta, simple=False):\n",
    "    \n",
    "\n",
    "    g = lambda x: model_moments_ga(x, alpha, beta)\n",
    "    model_moments = np.zeros(len(xvals))\n",
    "    \n",
    "    for i in range(len(xvals)):\n",
    "        model_moments[i] = quad(g, xvals[i]-2500, xvals[i] + 2500)[0]\n",
    "    if simple:\n",
    "        err_vec = model_moments - data_moments\n",
    "    else:\n",
    "        err_vec = (model_moments - data_moments) / data_moments\n",
    "    \n",
    "    return err_vec\n",
    "\n",
    "def crit_ga(params, *args):\n",
    "    \n",
    "    alpha, beta = params\n",
    "    xvals, frequency, W = args\n",
    "    err = err_vec_ga(xvals,  data_moments, alpha, beta)\n",
    "    crit_val = np.dot(np.dot(err.T, W), err) \n",
    "    \n",
    "    return crit_val"
   ]
  },
  {
   "cell_type": "code",
   "execution_count": 13,
   "metadata": {
    "scrolled": true
   },
   "outputs": [
    {
     "name": "stdout",
     "output_type": "stream",
     "text": [
      "      fun: 0.04402459026937057\n",
      " hess_inv: <2x2 LbfgsInvHessProduct with dtype=float64>\n",
      "      jac: array([-4.07382461e-06,  0.00000000e+00])\n",
      "  message: b'CONVERGENCE: NORM_OF_PROJECTED_GRADIENT_<=_PGTOL'\n",
      "     nfev: 108\n",
      "      nit: 28\n",
      "   status: 0\n",
      "  success: True\n",
      "        x: array([1.40612154e+00, 4.55959341e+04])\n"
     ]
    }
   ],
   "source": [
    "bnds1 = ((1e-5, None), (1e-5, None))\n",
    "params_init1 = (alpha_init, beta_init)\n",
    "\n",
    "ga_args = (xvals,  data_moments, W)\n",
    "results1 = opt.minimize(crit_ga, params_init1, args=(ga_args), bounds = bnds1)\n",
    "print(results1)\n",
    "alpha_ga, beta_ga = results1.x"
   ]
  },
  {
   "cell_type": "code",
   "execution_count": 14,
   "metadata": {
    "scrolled": true
   },
   "outputs": [
    {
     "name": "stdout",
     "output_type": "stream",
     "text": [
      "Error vector= [-4.45708830e-02  2.19152041e-01 -5.83575152e-02  3.07456846e-03\n",
      " -3.38554214e-02  1.14619518e-02 -4.08271110e-02 -1.00431396e-02\n",
      " -1.15782416e-02  8.60624930e-02 -3.04200432e-02  9.67969121e-02\n",
      " -2.49789900e-02  4.15941305e-02  2.22149890e-02 -1.67918331e-02\n",
      "  2.76040175e-02  1.15917514e-01  1.18175699e-02  6.74886682e-02\n",
      " -1.30368897e-01  1.33711509e-01  6.37369195e-02  6.54812135e-02\n",
      " -1.05877073e-02  1.03194894e-01  4.31623566e-02  2.51886582e-01\n",
      "  1.35076017e-02  6.33953716e-02 -2.60215342e-01  5.83758993e-02\n",
      "  1.98320286e-02  5.71929166e-02 -5.20964307e-02  4.38579803e-04\n",
      "  4.46848022e-02  1.99446223e-01  3.78213810e-02  1.44593566e-01\n",
      " -9.10317066e-01 -9.84083042e-01]\n"
     ]
    }
   ],
   "source": [
    "error=err_vec_ga(xvals, data_moments , alpha_ga, beta_ga, simple=False)\n",
    "print('Error vector=', error)"
   ]
  },
  {
   "cell_type": "code",
   "execution_count": 15,
   "metadata": {
    "scrolled": false
   },
   "outputs": [
    {
     "data": {
      "image/png": "[encoded data removed]",
      "text/plain": [
       "<matplotlib.figure.Figure at 0x177ec9fc5f8>"
      ]
     },
     "metadata": {},
     "output_type": "display_data"
    }
   ],
   "source": [
    "# Plot the histogram of the data\n",
    "width = np.hstack([np.ones(len(data[:,1]) - 2)*5, 50, 100])\n",
    "left=data[:,1]/1000\n",
    "plt.bar(left, np.hstack([data[:, 0][:-2], data[:, 0][-2]/10, data[:, 0][-1]/20]), width, edgecolor='k')\n",
    "b=np.hstack([data[:, 0][:-2], data[:, 0][-2]/10, data[:, 0][-1]/20])\n",
    "plt.xlabel('Income (in thousands)')\n",
    "plt.ylabel('Frequency')\n",
    "\n",
    "# Plot the estimated GMM PDF\n",
    "x=left*1000\n",
    "g = lambda x: model_moments_ga(x, alpha_ga, beta_ga)\n",
    "y = np.zeros(len(xvals))\n",
    "for i in range(len(xvals)):\n",
    "        y[i] = quad(g, x[i]-2500, x[i] + 2500)[0] \n",
    "x=x/1000\n",
    "plt.plot(x, y, 'm',label='GA_dist')\n",
    "\n",
    "\n",
    "\n",
    "plt.show()\n"
   ]
  },
  {
   "cell_type": "markdown",
   "metadata": {},
   "source": [
    "# Part(d)"
   ]
  },
  {
   "cell_type": "code",
   "execution_count": 16,
   "metadata": {
    "scrolled": false
   },
   "outputs": [
    {
     "data": {
      "image/png": "[encoded data removed]",
      "text/plain": [
       "<matplotlib.figure.Figure at 0x177eca82710>"
      ]
     },
     "metadata": {},
     "output_type": "display_data"
    }
   ],
   "source": [
    "# Plot the histogram of the data\n",
    "width = np.hstack([np.ones(len(data[:,1]) - 2)*5, 50, 100])\n",
    "left=data[:,1]/1000\n",
    "plt.bar(left, np.hstack([data[:, 0][:-2], data[:, 0][-2]/10, data[:, 0][-1]/20]), width, edgecolor='k')\n",
    "b=np.hstack([data[:, 0][:-2], data[:, 0][-2]/10, data[:, 0][-1]/20])\n",
    "plt.xlabel('Income (in thousands)')\n",
    "plt.ylabel('Frequency')\n",
    "# Plot the estimated GMM PDF\n",
    "x=left*1000\n",
    "g = lambda x: model_moments_ga(x, alpha_ga, beta_ga)\n",
    "y = np.zeros(len(xvals))\n",
    "for i in range(len(xvals)):\n",
    "        y[i] = quad(g, x[i]-2500, x[i] + 2500)[0] \n",
    "x=x/1000\n",
    "plt.plot(x, y, 'm',label=\"LN_dist\")\n",
    "\n",
    "\n",
    "# Plot the estimated GMM PDF\n",
    "x=left*1000\n",
    "g = lambda x: model_moments_ln(x, mu_ln, sigma_ln)\n",
    "y = np.zeros(len(xvals))\n",
    "for i in range(len(xvals)):\n",
    "        y[i] = quad(g, x[i]-2500, x[i] + 2500)[0] \n",
    "x=x/1000\n",
    "plt.plot(x, y, 'g',label=\"IN_dist\")\n",
    "plt.legend()\n",
    "plt.show()"
   ]
  },
  {
   "cell_type": "markdown",
   "metadata": {},
   "source": [
    "# Part(e)"
   ]
  },
  {
   "cell_type": "code",
   "execution_count": 17,
   "metadata": {},
   "outputs": [
    {
     "name": "stdout",
     "output_type": "stream",
     "text": [
      "      fun: 2.1244347781120916\n",
      " hess_inv: <2x2 LbfgsInvHessProduct with dtype=float64>\n",
      "      jac: array([0.00040639, 0.        ])\n",
      "  message: b'CONVERGENCE: REL_REDUCTION_OF_F_<=_FACTR*EPSMCH'\n",
      "     nfev: 114\n",
      "      nit: 28\n",
      "   status: 0\n",
      "  success: True\n",
      "        x: array([1.40909586e+00, 4.46597296e+04])\n"
     ]
    }
   ],
   "source": [
    "W = np.identity(42)\n",
    "\n",
    "ga_args1 = (xvals, data_moments, W)\n",
    "results2 = opt.minimize(crit_ga, params_init1, args=(ga_args1), bounds = bnds1)\n",
    "print(results2)\n",
    "alpha_ga2, beta_ga2 = results2.x"
   ]
  },
  {
   "cell_type": "code",
   "execution_count": 18,
   "metadata": {},
   "outputs": [
    {
     "name": "stdout",
     "output_type": "stream",
     "text": [
      "      fun: -80358085952.17206\n",
      " hess_inv: <2x2 LbfgsInvHessProduct with dtype=float64>\n",
      "      jac: array([ 4.56078339e+10, -9.76562500e+05])\n",
      "  message: b'CONVERGENCE: REL_REDUCTION_OF_F_<=_FACTR*EPSMCH'\n",
      "     nfev: 120\n",
      "      nit: 22\n",
      "   status: 0\n",
      "  success: True\n",
      "        x: array([1.48052652e+00, 4.03273215e+04])\n"
     ]
    }
   ],
   "source": [
    "e = err_vec_ga(xvals, data_moments, alpha_ga2, beta_ga2)\n",
    "Omega_2 = np.outer(e.T, e) \n",
    "W1 = pinv(Omega_2)\n",
    "params_init2 = (3, 20000)\n",
    "ga_args3 = (xvals, data_moments, W1)\n",
    "results3 = opt.minimize(crit_ga, params_init2, args=(ga_args3), bounds = bnds1)\n",
    "print(results3)\n",
    "alpha_ga3, beta_ga3 = results3.x"
   ]
  },
  {
   "cell_type": "code",
   "execution_count": 19,
   "metadata": {},
   "outputs": [
    {
     "data": {
      "image/png": "[encoded data removed]",
      "text/plain": [
       "<matplotlib.figure.Figure at 0x177eca74ef0>"
      ]
     },
     "metadata": {},
     "output_type": "display_data"
    }
   ],
   "source": [
    "width = np.hstack([np.ones(len(data[:,-1]) - 2)*5, 50, 100])\n",
    "\n",
    "plt.bar(left, np.hstack([data[:, 0][:-2], data[:, 0][-2]/10, data[:, 0][-1]/20]), width, edgecolor='k')\n",
    "plt.title('Income in US', fontsize=20)\n",
    "plt.xlabel('Income (thousand)')\n",
    "plt.ylabel('Frequency')\n",
    "\n",
    "\n",
    "x=left*1000\n",
    "g = lambda x: model_moments_ga(x,alpha_ga3, beta_ga3)\n",
    "y = np.zeros(len(xvals))\n",
    "for i in range(len(xvals)):\n",
    "        y[i] = quad(g, x[i]-2500, x[i] + 2500)[0] \n",
    "x=x/1000\n",
    "plt.plot(x, y, 'g')\n",
    "\n",
    "plt.show()\n",
    "\n"
   ]
  }
 ],
 "metadata": {
  "anaconda-cloud": {},
  "kernelspec": {
   "display_name": "Python 3",
   "language": "python",
   "name": "python3"
  },
  "language_info": {
   "codemirror_mode": {
    "name": "ipython",
    "version": 3
   },
   "file_extension": ".py",
   "mimetype": "text/x-python",
   "name": "python",
   "nbconvert_exporter": "python",
   "pygments_lexer": "ipython3",
   "version": "3.6.4"
  }
 },
 "nbformat": 4,
 "nbformat_minor": 1
}
