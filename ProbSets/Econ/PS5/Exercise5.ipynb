{
 "cells": [
  {
   "cell_type": "code",
   "execution_count": 1,
   "metadata": {},
   "outputs": [],
   "source": [
    "# Import packages\n",
    "import numpy as np\n",
    "import pandas as pd\n",
    "import scipy.stats as sts\n",
    "import os\n",
    "import matplotlib.pyplot as plt\n",
    "import scipy.optimize as opt\n",
    "import warnings\n",
    "warnings.filterwarnings('ignore')\n",
    "from scipy import special\n",
    "from scipy.integrate import quad"
   ]
  },
  {
   "cell_type": "code",
   "execution_count": 2,
   "metadata": {},
   "outputs": [],
   "source": [
    "data = np.loadtxt('MacroSeries.txt', delimiter=\",\")\n",
    "c = data[:, 0]\n",
    "k = data[:, 1]\n",
    "w = data[:, 2]\n",
    "r = data[:, 3]\n",
    "y = data[:, 4]"
   ]
  },
  {
   "cell_type": "code",
   "execution_count": 3,
   "metadata": {},
   "outputs": [],
   "source": [
    "weight = np.identity(6)\n",
    "alpha_init = 0.8\n",
    "beta = 0.99\n",
    "rho_init = 0.7\n",
    "mu_init = 0.2\n",
    "sigma_init = 0.2\n",
    "params_init = (alpha_init, rho_init, mu_init, sigma_init)\n",
    "bnds = ((0.01, 0.99), (-0.99, 0.99), (5, 14), (0.01, 1.1))\n",
    "args = (c, k, w, r, y, weight)"
   ]
  },
  {
   "cell_type": "code",
   "execution_count": 4,
   "metadata": {},
   "outputs": [],
   "source": [
    "def data_moments(c, k, y):\n",
    "    mean_c = c.mean()\n",
    "    mean_k = k.mean()\n",
    "    cy=c/y\n",
    "    mean_cy = cy.mean()\n",
    "    var_y = y.var()\n",
    "    corr_ck = np.corrcoef(c, k)[0, 1]\n",
    "    corr_c = np.corrcoef(c[1:], c[:-1])[0, 1]\n",
    "    return mean_c, mean_k, mean_cy, var_y, corr_ck, corr_c\n"
   ]
  },
  {
   "cell_type": "code",
   "execution_count": 5,
   "metadata": {},
   "outputs": [],
   "source": [
    "meank = k.mean()\n",
    "def simulate_moments(alpha, rho, mu, sigma, T=100, S=1000):\n",
    "    z1 = mu\n",
    "    k1 = meank\n",
    "    epsilon = np.random.normal(0, scale=sigma, size=(S, T)) \n",
    "    zmat = np.zeros((S, T))\n",
    "    kmat = np.zeros((S, T))\n",
    "    cmat = np.zeros((S, T))\n",
    "    ymat = np.zeros((S, T))\n",
    "    zmat[:, 0] = z1 * np.ones(S)\n",
    "    kmat[:, 0] = k1 * np.ones(S)\n",
    "    \n",
    "    for i in range(1, T):\n",
    "        zmat[:, i] = rho * zmat[:, i-1] + (1 - rho) * mu + epsilon[:, i]\n",
    "        kmat[:, i] = alpha * beta * np.exp(zmat[:, i]) + kmat[:, i-1] ** alpha\n",
    "    wmat = (1 - alpha) * np.exp(zmat) * kmat ** alpha\n",
    "    rmat = alpha * np.exp(zmat) * kmat ** (alpha - 1)\n",
    "    ymat = np.exp(zmat)*pow(kmat,alpha)\n",
    "    cmat[:, 0] = wmat[:, 0] + rmat[:, 0] * kmat[:, 0]\n",
    "    for i in range(1, T):\n",
    "        cmat[:, i] = wmat[:, i] + rmat[:, i] * kmat[:, i] - kmat[:, i-1]\n",
    "   \n",
    "    \n",
    "   \n",
    "    smean_c = cmat.mean(axis=1).mean()\n",
    "    smean_k = kmat.mean(axis=1).mean()\n",
    "    svar_y = ymat.var(axis=1).mean()\n",
    "    cy = cmat/ymat\n",
    "    smean_cy = cy.mean(axis=1).mean()\n",
    "    corr_ck = np.zeros(T)\n",
    "    corr_c = np.zeros(T - 1)\n",
    "    \n",
    "    for i in range(T):\n",
    "        corr_ck[i] = np.corrcoef(cmat[:, i], kmat[:, i])[0, 1]\n",
    "    for i in range(T-1):\n",
    "        corr_c[i] = np.corrcoef(cmat[1:, i], cmat[:-1, i])[0, 1]  \n",
    "    scorr_ck = corr_ck[2:].mean()\n",
    "    scorr_c = corr_c[1:].mean()\n",
    "    \n",
    "    return smean_c, smean_k, svar_y, smean_cy, scorr_ck, scorr_c\n"
   ]
  },
  {
   "cell_type": "code",
   "execution_count": 6,
   "metadata": {},
   "outputs": [],
   "source": [
    "def err_vec(c, k, w, r, y, alpha, rho, mu, sigma):\n",
    "    mo_moments = np.array(simulate_moments(alpha, rho, mu, sigma))\n",
    "    da_moments = np.array(data_moments(c, k, y))\n",
    "    \n",
    "    err_vec = ((mo_moments - da_moments) / da_moments)\n",
    "    return err_vec\n",
    "\n",
    "def crit(params, *args):\n",
    "    alpha, rho, mu, sigma = params\n",
    "    c, k, w, r, y, weight  = args\n",
    "    err = err_vec(c, k, w, r, y, alpha, rho, mu, sigma)\n",
    "    crit_val = np.dot(np.dot(err.T, weight), err) \n",
    "    \n",
    "    return crit_val"
   ]
  },
  {
   "cell_type": "code",
   "execution_count": 7,
   "metadata": {},
   "outputs": [
    {
     "name": "stdout",
     "output_type": "stream",
     "text": [
      "      fun: 1.5092237317742576e+26\n",
      " hess_inv: <4x4 LbfgsInvHessProduct with dtype=float64>\n",
      "      jac: array([1.70620634e+30, 2.98308623e+29, 1.28827832e+30, 1.87792770e+30])\n",
      "  message: b'CONVERGENCE: REL_REDUCTION_OF_F_<=_FACTR*EPSMCH'\n",
      "     nfev: 145\n",
      "      nit: 4\n",
      "   status: 0\n",
      "  success: True\n",
      "        x: array([0.77072647, 0.71079819, 5.        , 0.19296242])\n"
     ]
    }
   ],
   "source": [
    "results = opt.minimize(crit, params_init, args=(args), bounds = bnds, method = 'L-BFGS-B')\n",
    "print(results)"
   ]
  }
 ],
 "metadata": {
  "anaconda-cloud": {},
  "kernelspec": {
   "display_name": "Python 3",
   "language": "python",
   "name": "python3"
  },
  "language_info": {
   "codemirror_mode": {
    "name": "ipython",
    "version": 3
   },
   "file_extension": ".py",
   "mimetype": "text/x-python",
   "name": "python",
   "nbconvert_exporter": "python",
   "pygments_lexer": "ipython3",
   "version": "3.6.4"
  }
 },
 "nbformat": 4,
 "nbformat_minor": 1
}
